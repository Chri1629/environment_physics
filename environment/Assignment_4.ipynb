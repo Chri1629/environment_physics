{
 "cells": [
  {
   "cell_type": "code",
   "execution_count": 1,
   "id": "three-socket",
   "metadata": {
    "ExecuteTime": {
     "end_time": "2021-03-31T09:34:07.441899Z",
     "start_time": "2021-03-31T09:34:05.737662Z"
    }
   },
   "outputs": [],
   "source": [
    "import matplotlib.pyplot as plt\n",
    "import matplotlib as mpl\n",
    "\n",
    "import numpy as np\n",
    "\n",
    "import cartopy.crs as ccrs\n",
    "\n",
    "import xarray as xr\n",
    "\n",
    "import plotly.offline as py\n",
    "import numpy as np           \n",
    "from scipy.io import netcdf  \n",
    "from mpl_toolkits.basemap import Basemap\n",
    "import warnings\n",
    "from numpy import sin, cos, pi\n",
    "import pandas as pd\n",
    "import warnings"
   ]
  },
  {
   "cell_type": "markdown",
   "id": "critical-statistics",
   "metadata": {},
   "source": [
    "# Functions"
   ]
  },
  {
   "cell_type": "code",
   "execution_count": 92,
   "id": "united-sheriff",
   "metadata": {
    "ExecuteTime": {
     "end_time": "2021-03-31T10:35:50.079671Z",
     "start_time": "2021-03-31T10:35:50.037908Z"
    }
   },
   "outputs": [],
   "source": [
    "def mapping_map_to_sphere(lon, lat, radius=1):\n",
    "    #this function maps the points of coords (lon, lat) to points onto the  sphere of radius radius\n",
    "\n",
    "    lon = np.array(lon, dtype=np.float64)\n",
    "    lat = np.array(lat, dtype=np.float64)\n",
    "    lon = degree2radians(lon)\n",
    "    lat = degree2radians(lat)\n",
    "    xs = radius * cos(lon) * cos(lat)\n",
    "    ys = radius * sin(lon) * cos(lat)\n",
    "    zs = radius * sin(lat)\n",
    "    return xs, ys, zs\n",
    "\n",
    "\n",
    "def degree2radians(degree):\n",
    "    #convert degrees to radians\n",
    "    return degree * pi / 180\n",
    "\n",
    "\n",
    "# Functions converting coastline/country polygons to lon/lat traces\n",
    "def polygons_to_traces(poly_paths, N_poly, m=None):\n",
    "    ''' \n",
    "    pos arg 1. (poly_paths): paths to polygons\n",
    "    pos arg 2. (N_poly): number of polygon to convert\n",
    "    '''\n",
    "    # init. plotting list\n",
    "    lons = []\n",
    "    lats = []\n",
    "\n",
    "    for i_poly in range(N_poly):\n",
    "        poly_path = poly_paths[i_poly]\n",
    "\n",
    "        # get the Basemap coordinates of each segment\n",
    "        coords_cc = np.array([\n",
    "            (vertex[0], vertex[1])\n",
    "            for (vertex, code) in poly_path.iter_segments(simplify=False)\n",
    "        ])\n",
    "\n",
    "        # convert coordinates to lon/lat by 'inverting' the Basemap projection\n",
    "        lon_cc, lat_cc = m(coords_cc[:, 0], coords_cc[:, 1], inverse=True)\n",
    "\n",
    "        lats.extend(lat_cc.tolist() + [None])\n",
    "        lons.extend(lon_cc.tolist() + [None])\n",
    "\n",
    "    return lons, lats\n",
    "\n",
    "\n",
    "# Function generating coastline lon/lat\n",
    "def get_coastline_traces(m=None):\n",
    "    poly_paths = m.drawcoastlines().get_paths()  # coastline polygon paths\n",
    "    N_poly = 91  # use only the 91st biggest coastlines (i.e. no rivers)\n",
    "    cc_lons, cc_lats = polygons_to_traces(poly_paths, N_poly, m)\n",
    "    return cc_lons, cc_lats\n",
    "\n",
    "\n",
    "# Function generating country lon/lat\n",
    "def get_country_traces(m=None):\n",
    "    poly_paths = m.drawcountries().get_paths()  # country polygon paths\n",
    "    N_poly = len(poly_paths)  # use all countries\n",
    "    country_lons, country_lats = polygons_to_traces(poly_paths, N_poly, m)\n",
    "    return country_lons, country_lats\n",
    "\n",
    "\n",
    "# Get list of of coastline, country, and state lon/lat\n",
    "\n",
    "\n",
    "def make_3D_world(data=None,\n",
    "                  title=\"\",\n",
    "                  unit=\"x\",\n",
    "                  filename=None,\n",
    "                  country=False,\n",
    "                  min_val=None,\n",
    "                  max_val=None, slider = False):\n",
    "    assert type(slider) is bool, \"slider can be assigned only bool values.\"\n",
    "    if slider is False:\n",
    "        # Make shortcut to Basemap object,\n",
    "        # not specifying projection type for this example\n",
    "        m = Basemap()\n",
    "\n",
    "        cc_lons, cc_lats = get_coastline_traces(m=m)\n",
    "        if country is True:\n",
    "            country_lons, country_lats = get_country_traces(m=m)\n",
    "        else:\n",
    "            country_lons, country_lats = [], []\n",
    "\n",
    "        #concatenate the lon/lat for coastlines and country boundaries:\n",
    "        lons = cc_lons + [None] + country_lons\n",
    "        lats = cc_lats + [None] + country_lats\n",
    "\n",
    "        xs, ys, zs = mapping_map_to_sphere(lon=lons, lat=lats, radius=1.01)\n",
    "        # xs, ys, zs=mapping_map_to_sphere(lons, lats, radius=1.01)# here the radius is slightly greater than 1\n",
    "        #                                                          #to ensure lines visibility; otherwise (with radius=1)\n",
    "        #                                                          # some lines are hidden by contours colors\n",
    "\n",
    "        boundaries = dict(type='scatter3d',\n",
    "                          x=xs,\n",
    "                          y=ys,\n",
    "                          z=zs,\n",
    "                          mode='lines',\n",
    "                          line=dict(color='black', width=1))\n",
    "\n",
    "        colorscale = [[0.0, '#313695'], [0.07692307692307693, '#3a67af'],\n",
    "                      [0.15384615384615385, '#5994c5'],\n",
    "                      [0.23076923076923078, '#84bbd8'],\n",
    "                      [0.3076923076923077, '#afdbea'],\n",
    "                      [0.38461538461538464, '#d8eff5'],\n",
    "                      [0.46153846153846156, '#d6ffe1'],\n",
    "                      [0.5384615384615384, '#fef4ac'],\n",
    "                      [0.6153846153846154, '#fed987'],\n",
    "                      [0.6923076923076923, '#fdb264'],\n",
    "                      [0.7692307692307693, '#f78249'],\n",
    "                      [0.8461538461538461, '#e75435'],\n",
    "                      [0.9230769230769231, '#cc2727'], [1.0, '#a50026']]\n",
    "\n",
    "        clons = np.array(list(data.lon), dtype=np.float64)\n",
    "        clats = np.array(data.lat, dtype=np.float64)\n",
    "        clons, clats = np.meshgrid(clons, clats)\n",
    "\n",
    "        XS, YS, ZS = mapping_map_to_sphere(clons, clats)\n",
    "\n",
    "        nrows, ncolumns = np.array(data).shape\n",
    "        OLR = np.zeros(clons.shape, dtype=np.float64)\n",
    "        OLR[:, :ncolumns] = np.copy(np.array(data, dtype=np.float64))\n",
    "        OLR[:, ncolumns - 1] = np.copy(np.array(data)[:, 0])\n",
    "\n",
    "        text = [[\n",
    "            'lon: ' + '{:.2f}'.format(clons[i, j]) + '<br>lat: ' +\n",
    "            '{:.2f}'.format(clats[i, j]) + '<br>W: ' + '{:.2f}'.format(OLR[i][j])\n",
    "            for j in range(ncolumns)\n",
    "        ] for i in range(nrows)]\n",
    "\n",
    "        if min_val is None:\n",
    "            min_val = min(np.array(data).ravel())\n",
    "        if max_val is None:\n",
    "            max_val = max(np.array(data).ravel())\n",
    "        sphere = dict(type='surface',\n",
    "                      x=XS,\n",
    "                      y=YS,\n",
    "                      z=ZS,\n",
    "                      colorscale=colorscale,\n",
    "                      surfacecolor=OLR,\n",
    "                      cmin=min_val,\n",
    "                      cmax=max_val,\n",
    "                      colorbar=dict(thickness=20, len=0.75, ticklen=4, title=unit),\n",
    "                      text=text,\n",
    "                      hoverinfo='text')\n",
    "\n",
    "        noaxis = dict(showbackground=False,\n",
    "                      showgrid=False,\n",
    "                      showline=False,\n",
    "                      showticklabels=False,\n",
    "                      ticks='',\n",
    "                      title='',\n",
    "                      zeroline=False)\n",
    "\n",
    "        layout3d = dict(title=title,\n",
    "                        font=dict(family='Balto', size=14),\n",
    "                        width=800,\n",
    "                        height=800,\n",
    "                        scene=dict(xaxis=noaxis,\n",
    "                                   yaxis=noaxis,\n",
    "                                   zaxis=noaxis,\n",
    "                                   aspectratio=dict(x=1, y=1, z=1),\n",
    "                                   camera=dict(eye=dict(x=1.15, y=1.15, z=1.15))),\n",
    "                        paper_bgcolor='rgba(235,235,235, 0.9)')\n",
    "\n",
    "        fig = dict(data=[sphere, boundaries], layout=layout3d)\n",
    "        if filename is None:\n",
    "            # py.sign_in('empet', 'api_key')\n",
    "            py.iplot(fig, filename='radiation-map2sphere')\n",
    "        else:\n",
    "            py.plot(fig, validate=False, filename=filename, auto_open=True)\n",
    "    else:\n",
    "        # Make shortcut to Basemap object,\n",
    "        # not specifying projection type for this example\n",
    "        m = Basemap()\n",
    "\n",
    "        cc_lons, cc_lats = get_coastline_traces(m=m)\n",
    "        if country is True:\n",
    "            country_lons, country_lats = get_country_traces(m=m)\n",
    "        else:\n",
    "            country_lons, country_lats = [], []\n",
    "\n",
    "        #concatenate the lon/lat for coastlines and country boundaries:\n",
    "        lons = cc_lons + [None] + country_lons\n",
    "        lats = cc_lats + [None] + country_lats\n",
    "\n",
    "        xs, ys, zs = mapping_map_to_sphere(lon=lons, lat=lats, radius=1.01)\n",
    "        # xs, ys, zs=mapping_map_to_sphere(lons, lats, radius=1.01)# here the radius is slightly greater than 1\n",
    "        #                                                          #to ensure lines visibility; otherwise (with radius=1)\n",
    "        #                                                          # some lines are hidden by contours colors\n",
    "\n",
    "        boundaries = dict(type='scatter3d',\n",
    "                          x=xs,\n",
    "                          y=ys,\n",
    "                          z=zs,\n",
    "                          mode='lines',\n",
    "                          line=dict(color='black', width=1))\n",
    "\n",
    "        colorscale = [[0.0, '#313695'], [0.07692307692307693, '#3a67af'],\n",
    "                      [0.15384615384615385, '#5994c5'],\n",
    "                      [0.23076923076923078, '#84bbd8'],\n",
    "                      [0.3076923076923077, '#afdbea'],\n",
    "                      [0.38461538461538464, '#d8eff5'],\n",
    "                      [0.46153846153846156, '#d6ffe1'],\n",
    "                      [0.5384615384615384, '#fef4ac'],\n",
    "                      [0.6153846153846154, '#fed987'],\n",
    "                      [0.6923076923076923, '#fdb264'],\n",
    "                      [0.7692307692307693, '#f78249'],\n",
    "                      [0.8461538461538461, '#e75435'],\n",
    "                      [0.9230769230769231, '#cc2727'], [1.0, '#a50026']]\n",
    "        \n",
    "        clons = np.array(list(data.lon), dtype=np.float64)\n",
    "        clats = np.array(data.lat, dtype=np.float64)\n",
    "        clons, clats = np.meshgrid(clons, clats)\n",
    "\n",
    "        XS, YS, ZS = mapping_map_to_sphere(clons, clats)\n",
    "\n",
    "        nrows, ncolumns = np.array(data).shape[1:3]\n",
    "        yearly_data = data.groupby(\"time.year\").mean()\n",
    "        spheres = []\n",
    "        for i in range(len(yearly_data.year)):\n",
    "            OLR = np.zeros(clons.shape, dtype=np.float64)\n",
    "            OLR[:, :ncolumns] = np.copy(np.array(yearly_data[i,:,:], dtype=np.float64))\n",
    "            OLR[:, ncolumns - 1] = np.copy(np.array(yearly_data[i,:,:])[:, 0])\n",
    "\n",
    "            text = [[\n",
    "            'lon: ' + '{:.2f}'.format(clons[i, j]) + '<br>lat: ' +\n",
    "            '{:.2f}'.format(clats[i, j]) + '<br>W: ' + '{:.2f}'.format(OLR[i][j])\n",
    "            for j in range(ncolumns)\n",
    "            ] for i in range(nrows)]\n",
    "\n",
    "            if min_val is None:\n",
    "                min_val = min(np.array(data).ravel())\n",
    "            if max_val is None:\n",
    "                max_val = max(np.array(data).ravel())\n",
    "            spheres.append(dict(type='surface',\n",
    "                        visible = False,\n",
    "                      x=XS,\n",
    "                      y=YS,\n",
    "                      z=ZS,\n",
    "                      colorscale=colorscale,\n",
    "                      surfacecolor=OLR,\n",
    "                      cmin=min_val,\n",
    "                      cmax=max_val,\n",
    "                      colorbar=dict(thickness=20, len=0.75, ticklen=4, title=unit),\n",
    "                      text=text,\n",
    "                      hoverinfo='text'))\n",
    "\n",
    "        noaxis = dict(showbackground=False,\n",
    "                      showgrid=False,\n",
    "                      showline=False,\n",
    "                      showticklabels=False,\n",
    "                      ticks='',\n",
    "                      title='',\n",
    "                      zeroline=False)\n",
    "        \n",
    "        steps = []\n",
    "        for i in range(len(spheres)):\n",
    "            step = dict(\n",
    "                method = 'restyle',\n",
    "                label = int(yearly_data.year[i]),\n",
    "                args = ['visible', [False] * (len(spheres)+1)],\n",
    "            )\n",
    "            step['args'][1][i] = True # Toggle i'th trace to \"visible\"\n",
    "            step['args'][1][-1] = True # Toggle the costlines\n",
    "            steps.append(step)\n",
    "            \n",
    "        sliders = [dict(\n",
    "            active = 10,\n",
    "            currentvalue = {\"prefix\": \"Year: \"},\n",
    "            pad = {\"t\": len(spheres)},\n",
    "            steps = steps,\n",
    "            name = 'Year'\n",
    "        )]\n",
    "        spheres[10]['visible'] = True\n",
    "        layout3d = dict(title=title,\n",
    "                        sliders=sliders,\n",
    "                        font=dict(family='Balto', size=14),\n",
    "                        width=800,\n",
    "                        height=800,\n",
    "                        scene=dict(xaxis=noaxis,\n",
    "                                   yaxis=noaxis,\n",
    "                                   zaxis=noaxis,\n",
    "                                   aspectratio=dict(x=1, y=1, z=1),\n",
    "                                   camera=dict(eye=dict(x=1.15, y=1.15, z=1.15))),\n",
    "                        paper_bgcolor='rgba(235,235,235, 0.9)')\n",
    "\n",
    "        fig = dict(data= (spheres+ [boundaries]), layout=layout3d)\n",
    "        if filename is None:\n",
    "            # py.sign_in('empet', 'api_key')\n",
    "            py.iplot(fig, filename='radiation-map2sphere')\n",
    "        else:\n",
    "            py.plot(fig, validate=False, filename=filename, auto_open=True)\n",
    "\n",
    "def get_anomalies(data=None, data_normals=None):\n",
    "    data_anom = data\n",
    "    y0 = 0\n",
    "    for yi in range(0, int(len(data) / 12)):\n",
    "        data_anom.iloc[y0:y0 + 12] = data.iloc[y0:y0 + 12] - np.array(\n",
    "            data_normals.iloc[:])\n",
    "        y0 += 12\n",
    "    return data_anom\n",
    "\n",
    "\n",
    "def get_anomalies(ts=None, reference_period=None):\n",
    "    if reference_period is None:\n",
    "        warnings.warn(\"No reference period given. Selecting 1960-1990\")\n",
    "        reference_period = slice(\"1960-01-01\", \"1990-12-31\")\n",
    "    return (ts.groupby(\"time.month\") -\n",
    "            ts.sel(time=reference_period).groupby('time.month').mean(\"time\"))"
   ]
  },
  {
   "cell_type": "markdown",
   "id": "earned-senior",
   "metadata": {},
   "source": [
    "# Description"
   ]
  },
  {
   "cell_type": "markdown",
   "id": "clean-geneva",
   "metadata": {},
   "source": [
    "The objective of this assignment is to plot (and possibly evaluate) the difference in Surface Temperature between the first 50 and the last 50 years of the XXth century. Theperiod 1960 - 1990 is taken as **reference period**, and **anomalies** are calculate on it."
   ]
  },
  {
   "cell_type": "markdown",
   "id": "integral-ground",
   "metadata": {
    "heading_collapsed": true
   },
   "source": [
    "# Code"
   ]
  },
  {
   "cell_type": "code",
   "execution_count": 3,
   "id": "animal-colon",
   "metadata": {
    "ExecuteTime": {
     "end_time": "2021-03-31T09:34:07.537195Z",
     "start_time": "2021-03-31T09:34:07.501734Z"
    },
    "hidden": true
   },
   "outputs": [],
   "source": [
    "# Load the chosen dataset.\n",
    "# This code might be implemented better\n",
    "# if access to a yaml file were given.\n",
    "datapaths = [\n",
    "    \"./data/ts_Amon_IPSL-CM6A-LR_historical_r1i1p1f1_gr_185001-201412.nc\"\n",
    "    #     ,\"ts_Amon_MRI-ESM2-0_historical_r1i1p1f1_gn_185001-201412.nc\"\n",
    "]\n",
    "ts_datasets = {file.split(\"_\")[2]: xr.open_dataset(file) for file in datapaths}"
   ]
  },
  {
   "cell_type": "markdown",
   "id": "systematic-conviction",
   "metadata": {
    "hidden": true
   },
   "source": [
    "## Model Preview"
   ]
  },
  {
   "cell_type": "code",
   "execution_count": 4,
   "id": "brutal-minutes",
   "metadata": {
    "ExecuteTime": {
     "end_time": "2021-03-31T09:34:09.770072Z",
     "start_time": "2021-03-31T09:34:07.539267Z"
    },
    "hidden": true,
    "scrolled": false
   },
   "outputs": [
    {
     "data": {
      "image/png": "[encoded data removed]",
      "text/plain": [
       "<Figure size 0.072x0.072 with 1 Axes>"
      ]
     },
     "metadata": {},
     "output_type": "display_data"
    }
   ],
   "source": [
    "plt.figure(figsize=(0.001, 0.001))\n",
    "for name, data in ts_datasets.items():\n",
    "    # Traslate the longitudes from 0:360 to -180:180\n",
    "    data.coords['lon'] = (data.coords['lon'] + 180) % 360 - 180\n",
    "    data = data.sortby(data.lon)\n",
    "    # Add the longitude 180, since it is missing from the dataset\n",
    "    data = data.ts.mean(axis=0) - 273.15\n",
    "    data = data.interp(lat=data.lat,\n",
    "                       lon=list(data.lon) + [180],\n",
    "                       method='nearest',\n",
    "                       kwargs={\"fill_value\": \"extrapolate\"})\n",
    "    make_3D_world(data=data,\n",
    "                  min_val=-40,\n",
    "                  max_val=40,\n",
    "                  title=\"Average Surface Temperature (1850-2014), [model: \" +\n",
    "                  str(name) + \"]\",\n",
    "                  unit=\"ºC\",\n",
    "                  filename=\"./output/\" + str(name) + \"_avg_ts_1850-2014.html\")"
   ]
  },
  {
   "cell_type": "markdown",
   "id": "ordered-boston",
   "metadata": {
    "hidden": true
   },
   "source": [
    "## Model Anomalies"
   ]
  },
  {
   "cell_type": "code",
   "execution_count": 5,
   "id": "comparable-trauma",
   "metadata": {
    "ExecuteTime": {
     "end_time": "2021-03-31T09:34:16.503430Z",
     "start_time": "2021-03-31T09:34:09.772302Z"
    },
    "hidden": true
   },
   "outputs": [],
   "source": [
    "anomalies = {\n",
    "    name: get_anomalies(ts=data.ts, reference_period = slice(\"1850\", \"1900\"))\n",
    "    for name, data in ts_datasets.items()\n",
    "}"
   ]
  },
  {
   "cell_type": "code",
   "execution_count": 6,
   "id": "gothic-highlight",
   "metadata": {
    "ExecuteTime": {
     "end_time": "2021-03-31T09:34:19.849908Z",
     "start_time": "2021-03-31T09:34:16.505509Z"
    },
    "hidden": true
   },
   "outputs": [
    {
     "data": {
      "image/png": "[encoded data removed]",
      "text/plain": [
       "<Figure size 7.2x7.2 with 1 Axes>"
      ]
     },
     "metadata": {},
     "output_type": "display_data"
    }
   ],
   "source": [
    "slices = [slice(\"1900-01-01\", \"1950-12-31\"), slice(\"1950-01-01\", \"2000-12-31\"), slice(\"2000-12-31\", \"2014-12-31\")]\n",
    "plt.figure(figsize=(0.1, 0.1))\n",
    "all_anoms = []\n",
    "for name, anom in anomalies.items():\n",
    "    for sl in slices:\n",
    "        anom_sl = anom.sel(time=sl)\n",
    "        # Traslate the longitudes from 0:360 to -180:180\n",
    "        anom_sl.coords['lon'] = (anom_sl.coords['lon'] + 180) % 360 - 180\n",
    "        anom_sl = anom_sl.sortby(anom.lon)\n",
    "        # Add the longitude 180, since it is missing from the dataset\n",
    "\n",
    "        anom_sl = anom_sl.interp(lat=anom_sl.lat,\n",
    "                                 lon=list(anom_sl.lon) + [180],\n",
    "                                 method='nearest',\n",
    "                                 kwargs={\"fill_value\": \"extrapolate\"})\n",
    "        #         make 3d plot\n",
    "# Unfortunately, there is no easy way to remove the plot of the costlines\n",
    "        make_3D_world(data=anom_sl.mean(\"time\"),\n",
    "                      title=\"Average Anomaly \" + str(sl) + \", [model: \" +\n",
    "                      str(name) + \"]\",\n",
    "                      unit=\"ºC\",\n",
    "                      min_val = -4,\n",
    "                      max_val = 4,\n",
    "                      filename=\"./output/\" + str(name) + \"_anom_ts_\" +\n",
    "                      str(sl) + \".html\")\n",
    "        all_anoms.append(anom_sl.mean(\"time\"))"
   ]
  },
  {
   "cell_type": "code",
   "execution_count": 10,
   "id": "contemporary-local",
   "metadata": {
    "ExecuteTime": {
     "end_time": "2021-03-31T09:40:03.784400Z",
     "start_time": "2021-03-31T09:40:03.188706Z"
    },
    "hidden": true
   },
   "outputs": [
    {
     "data": {
      "image/png": "[encoded data removed]",
      "text/plain": [
       "<Figure size 0.072x0.072 with 1 Axes>"
      ]
     },
     "metadata": {},
     "output_type": "display_data"
    }
   ],
   "source": [
    "plt.figure(figsize = (0.001, 0.001))\n",
    "make_3D_world(data=all_anoms[0] - all_anoms[1],\n",
    "                      title=\"Difference in Average Anomalies between first 2 selected periods [model: \" +\n",
    "                      str(name) + \"]\",\n",
    "                      unit=\"ºC\",\n",
    "                      min_val = -4,\n",
    "                      max_val = 4,\n",
    "                      filename=\"./output/\" + str(name) + \"_diff_anom_.html\")"
   ]
  },
  {
   "cell_type": "code",
   "execution_count": 8,
   "id": "involved-vision",
   "metadata": {
    "ExecuteTime": {
     "end_time": "2021-03-31T09:34:21.630016Z",
     "start_time": "2021-03-31T09:34:20.688738Z"
    },
    "hidden": true
   },
   "outputs": [
    {
     "data": {
      "image/png": "[encoded data removed]",
      "text/plain": [
       "<Figure size 1008x504 with 1 Axes>"
      ]
     },
     "metadata": {
      "needs_background": "light"
     },
     "output_type": "display_data"
    }
   ],
   "source": [
    "plt.figure(figsize=(14, 7))\n",
    "for name, anom in anomalies.items():\n",
    "    for sl in slices:\n",
    "        anom_sl = anom.sel(time=sl)\n",
    "        # Traslate the longitudes from 0:360 to -180:180\n",
    "#         anom_sl.coords['lon'] = (anom_sl.coords['lon'] + 180) % 360 - 180\n",
    "#         anom_sl = anom_sl.sortby(anom.lon)\n",
    "        # Add the longitude 180, since it is missing from the dataset\n",
    "\n",
    "#         anom_sl = anom_sl.interp(lat=anom_sl.lat,\n",
    "#                                  lon=list(anom_sl.lon) + [180],\n",
    "#                                  method='nearest',\n",
    "#                                  kwargs={\"fill_value\": \"extrapolate\"})\n",
    "        #         make timeseries\n",
    "        anom_ts = anom_sl.mean(['lon', 'lat'])\n",
    "        anom_ts.plot(label = str(sl))\n",
    "    plt.title(\"Surface Temperature Anomalies\")\n",
    "    plt.legend(loc = 'best')\n",
    "    plt.xlabel(\"Time\")\n",
    "    plt.ylabel(\"Anomalies\")\n",
    "    plt.savefig(\"./output/\"+str(name)+\"+anom_ts_time.pdf\")\n",
    "    plt.show()"
   ]
  },
  {
   "cell_type": "markdown",
   "id": "placed-individual",
   "metadata": {},
   "source": [
    "# Extra"
   ]
  },
  {
   "cell_type": "code",
   "execution_count": 95,
   "id": "developed-cuisine",
   "metadata": {
    "ExecuteTime": {
     "end_time": "2021-03-31T10:38:23.396688Z",
     "start_time": "2021-03-31T10:37:48.798422Z"
    }
   },
   "outputs": [
    {
     "data": {
      "image/png": "[encoded data removed]",
      "text/plain": [
       "<Figure size 0.72x0.72 with 1 Axes>"
      ]
     },
     "metadata": {},
     "output_type": "display_data"
    }
   ],
   "source": [
    "plt.figure(figsize=(0.01, 0.01))\n",
    "for name, anom in anomalies.items():\n",
    "    # Traslate the longitudes from 0:360 to -180:180\n",
    "    anom.coords['lon'] = (anom.coords['lon'] + 180) % 360 - 180\n",
    "    anom = anom.sortby(anom.lon)\n",
    "    # Add the longitude 180, since it is missing from the dataset\n",
    "\n",
    "    anom = anom.interp(lat=anom.lat,\n",
    "                       lon=list(anom.lon) + [180],\n",
    "                       method='nearest',\n",
    "                       kwargs={\"fill_value\": \"extrapolate\"})\n",
    "    #         make 3d plot\n",
    "    # Unfortunately, there is no easy way to remove the plot of the costlines\n",
    "    make_3D_world(\n",
    "        data=anom,\n",
    "        title=\"Average Anomaly over the years [model: \" + str(name) + \"]\",\n",
    "        unit=\"ºC\",\n",
    "        min_val=-4,\n",
    "        max_val=4,\n",
    "        slider=True,\n",
    "        filename=\"./output/\" + str(name) + \"_slider_anom\" + str(sl) + \".html\")"
   ]
  },
  {
   "cell_type": "code",
   "execution_count": null,
   "id": "entertaining-hospital",
   "metadata": {},
   "outputs": [],
   "source": []
  }
 ],
 "metadata": {
  "kernelspec": {
   "display_name": "Python 3",
   "language": "python",
   "name": "python3"
  },
  "language_info": {
   "codemirror_mode": {
    "name": "ipython",
    "version": 3
   },
   "file_extension": ".py",
   "mimetype": "text/x-python",
   "name": "python",
   "nbconvert_exporter": "python",
   "pygments_lexer": "ipython3",
   "version": "3.7.10"
  },
  "toc": {
   "base_numbering": 1,
   "nav_menu": {},
   "number_sections": true,
   "sideBar": true,
   "skip_h1_title": false,
   "title_cell": "Table of Contents",
   "title_sidebar": "Contents",
   "toc_cell": false,
   "toc_position": {},
   "toc_section_display": true,
   "toc_window_display": false
  }
 },
 "nbformat": 4,
 "nbformat_minor": 5
}
