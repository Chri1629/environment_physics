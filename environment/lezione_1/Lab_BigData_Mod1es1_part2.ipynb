{
 "cells": [
  {
   "cell_type": "code",
   "execution_count": null,
   "metadata": {},
   "outputs": [],
   "source": [
    "#~~~~~~~~~~~~~~~~~~~~~~~~~~~~~~~~~~~~~~~~~~~~~~~~~~~\n",
    "# LAB MODULE 1.\n",
    "# Introduction to geospatial data\n",
    "#~~~~~~~~~~~~~~~~~~~~~~~~~~~~~~~~~~~~~~~~~~~~~~~~~~~\n",
    "\n",
    "# Topics covered:\n",
    "# (1) Vector and raster data types\n",
    "# (2) Geographic and projected coordinate systems\n",
    "# (3) Basic plots \n",
    "\n",
    "\n",
    "# Links showing examples for plotting and calculating distances using different methods\n",
    "#  https://stackoverflow.com/questions/57291951/how-to-calculate-geodesic-distance-along-a-path-lat-lon-points-at-once\n",
    "#  https://towardsdatascience.com/mapping-with-matplotlib-pandas-geopandas-and-basemap-in-python-d11b57ab5dac\n",
    "#  https://www.earthdatascience.org/\n",
    "#  http://www.naturalearthdata.com/"
   ]
  },
  {
   "cell_type": "code",
   "execution_count": null,
   "metadata": {},
   "outputs": [],
   "source": [
    "#~~~~~~~~~~~~~~~~~~~~~~~~~~~~~~~~~~~~~~~~~~~~~~~~~~~\n",
    "# Exercise 1.\n",
    "# Projection systems and shape of the Earth\n",
    "#\n",
    "# https://scitools.org.uk/cartopy/docs/latest/index.html\n",
    "#~~~~~~~~~~~~~~~~~~~~~~~~~~~~~~~~~~~~~~~~~~~~~~~~~~~\n",
    "\n",
    "import matplotlib.pyplot as plt\n",
    "\n",
    "import cartopy.crs as ccrs\n",
    "#import cartopy.feature as cfeature"
   ]
  },
  {
   "cell_type": "code",
   "execution_count": null,
   "metadata": {},
   "outputs": [],
   "source": [
    "# Example 1\n",
    "#\n",
    "# Store location names and geographic coordinates\n",
    "# Example: Milano - geographical coordinates from Wikipedia\n",
    "# sessagesimali \t45° 28′ 1″ N, 9° 11′ 24″ E\n",
    "# Decimali \t45.466944°, 9.19°\n",
    "# nome città ; latitudine (gradi N) ; longitudine (gradi E)\n",
    "\n",
    "cities = ('Madrid \\n(Spain)',\\\n",
    "          'Beijing \\n(China)',\\\n",
    "          \"Abidjan \\n(Cote d'Ivoire)\",\\\n",
    "          'Bandar Seri Begawan \\n(Brunei)')\n",
    "lats = (40.50,\\\n",
    "          39.91,\\\n",
    "          5.34,\\\n",
    "          4.97 )\n",
    "lons = (-3.67,\\\n",
    "          116.39,\\\n",
    "          -4.03,\\\n",
    "          114.97 )\n",
    "print (cities[2])"
   ]
  },
  {
   "cell_type": "code",
   "execution_count": null,
   "metadata": {},
   "outputs": [],
   "source": [
    "# Define the coordinate system in which the coordinates of your data are given\n",
    "#   https://www.esri.com/arcgis-blog/products/arcgis-pro/mapping/gcs_vs_pcs/\n",
    "data_crs = ccrs.Geodetic()         # geographical\n",
    "#data_crs = ccrs.PlateCarree()      # projected\n",
    "\n",
    "\n",
    "# Set a map with a given projection for visualizatin (then play with it)\n",
    "myproj = ccrs.PlateCarree()\n",
    "#myproj = ccrs.Mercator()\n",
    "#myproj = ccrs.Mollweide()\n",
    "#myproj = ccrs.AlbersEqualArea()\n",
    "#myproj = ccrs.NearsidePerspective(central_longitude=50.0, central_latitude=10.0)\n",
    "ax = plt.axes(projection=myproj)\n",
    "\n",
    "\n",
    "# Add some features (you can play a bit)\n",
    "ax.coastlines()\n",
    "#ax.gridlines(draw_labels=True)\n",
    "ax.stock_img()\n",
    "\n",
    "# Add locations on the map\n",
    "for i in range(0,4):\n",
    "  plt.plot(lons[i],lats[i],color='r',marker='o',transform=data_crs)\n",
    "\n",
    "# Add names on the map\n",
    "for i in range(0,4):\n",
    "  plt.text(lons[i]-50,lats[i]+5,cities[i],color='cyan',transform=data_crs)\n",
    "\n",
    "\n",
    "# Plot the distance between couples of cities (shortest or along the same latitude, depending on transform)\n",
    "plt.plot([lons[0],lons[1]],[lats[0],lats[1]],color='blue',transform=data_crs) # Madrid-Beijing\n",
    "plt.plot([lons[2],lons[3]],[lats[2],lats[3]],color='green',transform=data_crs) # Abidjan-Brunei\n",
    "plt.plot([lons[0],lons[2]],[lats[0],lats[2]],color='orange',transform=data_crs) # Madrid-Abidjan\n",
    "plt.plot([lons[1],lons[3]],[lats[1],lats[3]],color='brown',transform=data_crs) # Beijing-Brunei\n",
    "\n",
    "\n",
    "# Save the plot by calling plt.savefig() BEFORE plt.show()\n",
    "plt.savefig('Module1_plot02.pdf')\n",
    "plt.show()"
   ]
  },
  {
   "cell_type": "code",
   "execution_count": null,
   "metadata": {},
   "outputs": [],
   "source": [
    "# Example 2\n",
    "#\n",
    "# Now let's try to plot raster data\n",
    "#  Import data from a table\n",
    "#  You see it's organized as a 2D table, with first row and column containing the coordinates\n",
    "#  The elements in the 2D table represent the variable to plot\n",
    "#  The first row taken as column name ny default; we specify to take first coulumn as names, too.\n",
    "#  Then we also extract longitudes and latitudes\n",
    "\n",
    "# Think of other ways this kind of data could be organized and imported into python data structures\n",
    "\n",
    "import pandas as pd\n",
    "\n",
    "raster_data = pd.read_csv('./Module1_gridded_data.txt',sep='\\t',index_col=0)"
   ]
  },
  {
   "cell_type": "code",
   "execution_count": null,
   "metadata": {},
   "outputs": [],
   "source": [
    "print(raster_data.head())"
   ]
  },
  {
   "cell_type": "code",
   "execution_count": null,
   "metadata": {},
   "outputs": [],
   "source": [
    "# Get coordinates\n",
    "\n",
    "lons = pd.read_csv('./Module1_gridded_data.txt',sep='\\t',nrows=1,header=None)\n",
    "print(lons[0])\n",
    "lons.drop([0], axis=1, inplace=True)\n",
    "lons = lons.transpose()\n",
    "print(lons)\n",
    "\n",
    "lats = pd.read_csv('./Module1_gridded_data.txt',sep='\\t',usecols=[0])\n",
    "print(lats)"
   ]
  },
  {
   "cell_type": "code",
   "execution_count": null,
   "metadata": {},
   "outputs": [],
   "source": [
    "# Set a global map with chosen projection and plot the raster data\n",
    "\n",
    "import matplotlib as mpl\n",
    "\n",
    "fig = plt.figure(figsize=(9,6))  # x,y(inches)\n",
    "\n",
    "ax = plt.axes(projection=ccrs.Robinson())\n",
    "ax.set_global()\n",
    "ax.set_title('Unknown variable')\n",
    "\n",
    "mm = ax.pcolormesh(lons.transpose(), lats, raster_data, \\\n",
    "                   transform=ccrs.PlateCarree(),cmap=mpl.cm.cubehelix )\n",
    "\n",
    "# more color palettes here:\n",
    "#   https://matplotlib.org/3.1.3/tutorials/colors/colormaps.html\n",
    "\n",
    "ax.coastlines()\n",
    "\n",
    "#- add colorbar\n",
    "cbar_ax = fig.add_axes([0.28, 0.10, 0.46, 0.05]) #[left, bottom, width, height]\n",
    "cbar = fig.colorbar(mm, cax=cbar_ax, extend='both', orientation='horizontal')\n",
    "cbar.set_label('unknown units') #($\\mu g$ $m^{-3}$)\n",
    "cbar.ax.tick_params(labelsize=8)\n",
    "\n",
    "plt.savefig('Module1_plot03.pdf')\n",
    "plt.show()\n",
    "plt.close()"
   ]
  },
  {
   "cell_type": "code",
   "execution_count": null,
   "metadata": {},
   "outputs": [],
   "source": [
    "# Example 2 \n",
    "# Use the geographic grid covering the whole surface of the globe, \n",
    "#   and highlight with a color scale the approximate areas of different grid cells.\n",
    "\n",
    "# Hints: - assume that the Earth is a sphere of radius 6371 km\n",
    "#        - each grid cell is approximately a trapezoid"
   ]
  },
  {
   "cell_type": "code",
   "execution_count": null,
   "metadata": {},
   "outputs": [],
   "source": [
    "# There are several possible strategies, for instance:\n",
    "#  1- use geometric calculations relative to the sphere\n",
    "#  2- divide the sphere into n trapezoids\n",
    "#  3- use geopandas geometry to calculate areas, but first you need to convert the grid into a series of polygons"
   ]
  },
  {
   "cell_type": "code",
   "execution_count": null,
   "metadata": {},
   "outputs": [],
   "source": [
    "# I can calculate the surface of the Earth, and use it later to double-check my calculations\n",
    "#   https://en.wikipedia.org/wiki/Sphere\n",
    "er = 6371\n",
    "es = 4*3.141618*(er**2)\n",
    "print(es)"
   ]
  },
  {
   "cell_type": "code",
   "execution_count": null,
   "metadata": {},
   "outputs": [],
   "source": [
    "# In a regular latlon grid\n",
    "# the area of grid cells is the same for all grid cells in the same latitude band, independent of the longitude "
   ]
  },
  {
   "cell_type": "code",
   "execution_count": null,
   "metadata": {},
   "outputs": [],
   "source": [
    "# Solution (1)\n",
    "\n",
    "# - Divide the world into latitude bands \n",
    "#   (in our case the grid spacing is 10x10, so 18 latitude bands cover -90+90 deg.)\n",
    "# - Calculate the area of each latitude band, using the formula for spherical caps\n",
    "#   https://en.wikipedia.org/wiki/Spherical_cap\n",
    "#   https://www.pmel.noaa.gov/maillists/tmap/ferret_users/fu_2004/msg00023.html\n",
    "# - Divide the area of each latitude band by the number of longitude bands\n",
    "#   (36 longitude bands cover -180+180 deg.E)"
   ]
  },
  {
   "cell_type": "code",
   "execution_count": null,
   "metadata": {},
   "outputs": [],
   "source": [
    "# Let's start from the \"top\" spherical cap, that around the North Pole until 80N\n",
    "#   The area north of a line of latitude is: A = 2*pi*R^2(1-sin(lat)), with lat in radians\n",
    "\n",
    "from math import pi,sin\n",
    "\n",
    "A8090Na = 2 * pi * (er**2) * (1-sin(80*pi/180))\n",
    "\n",
    "# let's also substitute 80 with values of lats form our grid, which are identified by the center rather than margins\n",
    "A8090Nb = 2 * pi * (er**2) * (1-sin((lats.iloc[0]+lats.iloc[1])/2*pi/180))\n",
    "print(A8090Na,A8090Nb)"
   ]
  },
  {
   "cell_type": "code",
   "execution_count": null,
   "metadata": {},
   "outputs": [],
   "source": [
    "# Now extend this case\n",
    "# The area between two lines of latitude (latitude band) is the difference between the area north of latitude A \n",
    "#     and the area north of latitude B.\n",
    "# A = 2*pi*R^2 |sin(lat1)-sin(lat2)| |lon1-lon2|/360\n",
    "\n",
    "# Let's first create a more convenient array to contain lower latitude margins of the grid cell\n",
    "#   expressed in radians, then solve with a loop\n",
    "\n",
    "import numpy as np\n",
    "\n",
    "latsr = np.empty([len(lats)],dtype=float)\n",
    "area = np.empty([len(lats),len(lons)],dtype=float)\n",
    "\n",
    "for j in range(0,len(lats)):\n",
    "  latsr[j]=(lats.iloc[j]-5)*pi/180\n",
    "  print(j,lats.iloc[j],latsr[j],'\\n')\n",
    "\n",
    "# Our last latitude band should be 80S-90S, and identified by 90S, i.e. -π/2; let's check\n",
    "print(latsr[-1:],-pi/2)"
   ]
  },
  {
   "cell_type": "code",
   "execution_count": null,
   "metadata": {},
   "outputs": [],
   "source": [
    "for j in range(1,len(lats)-1):\n",
    "  area[j,:]= 2*pi*(er**2) * abs(sin(latsr[j])-sin(latsr[j-1])) * 10/360\n",
    "  print(j,lats.iloc[j],lats.iloc[j]-5,lats.iloc[j-1]-5,\\\n",
    "        latsr[j],latsr[j+1],area[j,0],'\\n')\n",
    "area[0,:]= A8090Nb * 10/360\n",
    "area[-1,:]= area[0,:]\n",
    "\n",
    "area=area/1e3 # express it in thousands of square kilometers\n",
    "print(area[:,4])"
   ]
  },
  {
   "cell_type": "code",
   "execution_count": null,
   "metadata": {
    "scrolled": true
   },
   "outputs": [],
   "source": [
    "fig = plt.figure(figsize=(9,6))  # x,y(inches)\n",
    "\n",
    "ax = plt.axes(projection=ccrs.PlateCarree())\n",
    "ax.set_global()\n",
    "ax.set_title('Grid cell area (10 x 10 deg.)\\n')\n",
    "\n",
    "mm = ax.pcolormesh(lons.transpose(), lats, area, \\\n",
    "                   transform=ccrs.PlateCarree(),cmap=mpl.cm.cubehelix )\n",
    "\n",
    "# more color palettes here:\n",
    "#   https://matplotlib.org/3.1.3/tutorials/colors/colormaps.html\n",
    "\n",
    "ax.coastlines()\n",
    "ax.gridlines(draw_labels=True)\n",
    "\n",
    "#- add colorbar\n",
    "cbar_ax = fig.add_axes([0.28, 0.10, 0.46, 0.05]) #[left, bottom, width, height]\n",
    "cbar = fig.colorbar(mm, cax=cbar_ax, extend='both', orientation='horizontal')\n",
    "cbar.set_label('$thousand$ $km^{2}$')\n",
    "cbar.ax.tick_params(labelsize=8)\n",
    "\n",
    "plt.savefig('Module1_plot04.pdf')\n",
    "plt.show()\n",
    "plt.close()"
   ]
  },
  {
   "cell_type": "code",
   "execution_count": null,
   "metadata": {},
   "outputs": [],
   "source": [
    "# Let's double-check: \n",
    "# - the areas for latitude bands should be symmetrical about the Equator\n",
    "# - the sum of areas of all grid cells should sum up to the area of the sphere calculated initially"
   ]
  },
  {
   "cell_type": "code",
   "execution_count": null,
   "metadata": {},
   "outputs": [],
   "source": [
    "# The symmetry is there in the data, it's displaced by effect of plotting!\n",
    "#  This \"issue\" is standing out very clearly in our example\n",
    "#  https://bairdlangenbrunner.github.io/python-for-climate-scientists/matplotlib/pcolormesh-grid-fix.html"
   ]
  },
  {
   "cell_type": "code",
   "execution_count": null,
   "metadata": {},
   "outputs": [],
   "source": [
    "# Let's extend our \"latsr\" and use it instead"
   ]
  },
  {
   "cell_type": "code",
   "execution_count": null,
   "metadata": {},
   "outputs": [],
   "source": [
    "#area_glob = np.empty([1],dtype=float)       \n",
    "area_glob = np.sum(area[:,:])*1000.\n",
    "print(area_glob)"
   ]
  },
  {
   "cell_type": "code",
   "execution_count": null,
   "metadata": {},
   "outputs": [],
   "source": [
    "print(area_glob/es)"
   ]
  }
 ],
 "metadata": {
  "kernelspec": {
   "display_name": "Python 3",
   "language": "python",
   "name": "python3"
  },
  "language_info": {
   "codemirror_mode": {
    "name": "ipython",
    "version": 3
   },
   "file_extension": ".py",
   "mimetype": "text/x-python",
   "name": "python",
   "nbconvert_exporter": "python",
   "pygments_lexer": "ipython3",
   "version": "3.7.7"
  }
 },
 "nbformat": 4,
 "nbformat_minor": 4
}
