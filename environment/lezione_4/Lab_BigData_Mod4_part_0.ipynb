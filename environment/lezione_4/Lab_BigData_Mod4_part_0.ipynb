{
 "cells": [
  {
   "cell_type": "code",
   "execution_count": null,
   "metadata": {},
   "outputs": [],
   "source": [
    "#~~~~~~~~~~~~~~~~~~~~~~~~~~~~~~~~~~~~~~~~~~~~~~~~~~~\n",
    "# LAB MODULE 4.\n",
    "# Analysis of climate data\n",
    "#~~~~~~~~~~~~~~~~~~~~~~~~~~~~~~~~~~~~~~~~~~~~~~~~~~~\n",
    "\n",
    "# Topics covered:\n",
    "# (1) Climate anomalies\n",
    "# (2) Climate indices\n",
    "# (3) Empirical Orthogonal Functions\n",
    "\n",
    "# We will work with datasets from CMIP6 archive; in the examples I will use one of the following cases:\n",
    "#  psl_Amon_MRI-ESM2-0_historical_r1i1p1f1_gn_185001-201412.nc\n",
    "#  psl_Amon_IPSL-CM6A-LR_historical_r1i1p1f1_gr_185001-201412.nc\n",
    "#  psl_Amon_MIROC6_historical_r1i1p1f1_gn_185001-194912.nc\n",
    "\n",
    "# You can download them either from the link provided in the slides, \n",
    "# or from the shared google drive link (login with your UNIMIB credentials only):\n",
    "#  https://esgf-node.llnl.gov/search/cmip6/\n",
    "#  https://drive.google.com/file/d/1-SOVeb7EoB_nDWcpugyNGTB6RHiRlRnF/view?usp=sharing"
   ]
  },
  {
   "cell_type": "code",
   "execution_count": null,
   "metadata": {},
   "outputs": [],
   "source": [
    "# Libraries\n",
    "\n",
    "import matplotlib.pyplot as plt\n",
    "import matplotlib as mpl\n",
    "\n",
    "import numpy as np\n",
    "\n",
    "import cartopy.crs as ccrs\n",
    "\n",
    "import xarray as xr"
   ]
  },
  {
   "cell_type": "code",
   "execution_count": null,
   "metadata": {},
   "outputs": [],
   "source": [
    "# Example 1\n",
    "# Calculate and display the EOF-NAO index from one of the CMIP6 historical simulations"
   ]
  },
  {
   "cell_type": "code",
   "execution_count": null,
   "metadata": {},
   "outputs": [],
   "source": [
    "# Chose models\n",
    "\n",
    "model = 'MRI-ESM2-0'"
   ]
  },
  {
   "cell_type": "code",
   "execution_count": null,
   "metadata": {},
   "outputs": [],
   "source": [
    "#-------------------------------------------------\n",
    "#-- Read and organize Sea Level Pressure data ----\n",
    "#-------------------------------------------------\n",
    "\n",
    "print('\\n **** NOW ARRANGE SLP *** \\n')\n",
    "\n",
    "#- Path to file\n",
    "modfile0=''.join(['./psl_Amon_',model,'_historical_r1i1p1f1_gn_185001-201412.nc'])\n",
    "                   #psl_Amon_MRI-ESM2-0_historical_r1i1p1f1_gn_185001-201412.nc\n",
    "#- explore file\n",
    "ds0 = xr.open_dataset(modfile0)\n",
    "\n",
    "#- extract variable (psl) - temporary variable\n",
    "psl0 = ds0.psl\n",
    "print(ds0)"
   ]
  },
  {
   "cell_type": "code",
   "execution_count": null,
   "metadata": {},
   "outputs": [],
   "source": [
    "#- make some visual checks of what's going on\n",
    "fig = plt.figure(figsize=(16,12))\n",
    "subplots = (2,2)\n",
    "n_panels = subplots[0] * subplots[1]\n",
    "\n",
    "#- check: location before lon adjustment\n",
    "ax = fig.add_subplot(subplots[0], subplots[1], 1, projection=ccrs.PlateCarree())\n",
    "ax.set_global()\n",
    "ax.coastlines() \n",
    "psl0m = psl0.mean(axis=0)\n",
    "psl0m.plot(extend='both')"
   ]
  },
  {
   "cell_type": "code",
   "execution_count": null,
   "metadata": {},
   "outputs": [],
   "source": [
    "# ~~~ Remember ~~~\n",
    "# SLP anomalies over the Atlantic sector, 20°-80°N, 90°W-40°E. \n",
    "# DJFM (Northern Hemisphere winter)\n"
   ]
  },
  {
   "cell_type": "code",
   "execution_count": null,
   "metadata": {},
   "outputs": [],
   "source": [
    "#-- Calculate and plot NAO index based on EOFs ---\n",
    "\n",
    "from eofs.xarray import Eof\n",
    "# https://ajdawson.github.io/eofs/latest/api/eofs.xarray.html\n",
    "\n",
    "# Retrieve the leading EOF, expressed as the covariance (alternatives: e.g. correlation) \n",
    "# between the leading PC time series and the input PSL anomalies at each grid point, and the\n",
    "# leading PC time series itself.\n",
    "\n"
   ]
  }
 ],
 "metadata": {
  "kernelspec": {
   "display_name": "Python 3",
   "language": "python",
   "name": "python3"
  },
  "language_info": {
   "codemirror_mode": {
    "name": "ipython",
    "version": 3
   },
   "file_extension": ".py",
   "mimetype": "text/x-python",
   "name": "python",
   "nbconvert_exporter": "python",
   "pygments_lexer": "ipython3",
   "version": "3.8.3"
  }
 },
 "nbformat": 4,
 "nbformat_minor": 4
}
