{
 "cells": [
  {
   "cell_type": "markdown",
   "metadata": {},
   "source": [
    "<a id='start'></a>\n",
    "# Deep Learning\n",
    "\n",
    "In questo notebook vengono presentati degli esercizi su come creare una rete neurale deep learning con Keras.\n",
    "\n",
    "Provate a svolgere il seguente esercizio:<br>\n",
    "1) [Introduzione alle Reti Neurali](#section0)<br>\n",
    "2) [Deep Learning](#section1)<br>\n",
    "3) [Come impara un algoritmo di Deep Learning](#section2)<br>\n",
    "4) [Funzioni di attivazione](#section3)<br>\n",
    "5) [Cataloghiamo Iris](#section4)<br>\n",
    "6) [Riconosciamo la scrittura](#section5)<br>"
   ]
  },
  {
   "cell_type": "markdown",
   "metadata": {},
   "source": [
    "<a id='section0'></a>\n",
    "## Introduzione alle Reti Neurali"
   ]
  },
  {
   "cell_type": "markdown",
   "metadata": {},
   "source": [
    "In questo corso abbiamo già fatto uso di Reti Neurali senza averne visto nel dettaglio il funzionamento e le caratteristiche.\n",
    "\n",
    "Un algoritmo di Machine learning può essere visto come una black box che riceve degli input e produce degli output. Per esempio potremmo creare un modello che predice il tempo metereologico di domani, partendo da alcuni dati metereologici sugli ultimi giorni passati.\n",
    "\n",
    "<img src=\"img/ml.png\" width=\"50%\">\n",
    "\n",
    "La \"black box\" è infatti un modello matematico. L'algoritmo di machine learning seguirà una sorta di metodo a prove ed errori per individuare il modello che meglio stimi gli output, dati gli input.\n",
    "\n",
    "Una volta creato il modello, questo modello deve essere **addestrato**. L'addestramento è il processo attraverso il quale il modello **apprende** come dare un senso ai dati di input."
   ]
  },
  {
   "cell_type": "markdown",
   "metadata": {},
   "source": [
    "<a id='section1-1'></a>\n",
    "### I tipi di reti neurali"
   ]
  },
  {
   "cell_type": "markdown",
   "metadata": {},
   "source": [
    "Abbiamo visto nella prima lezione introduttiva che esistono tre tipi di Machine Learning:\n",
    "\n",
    "1) **Supervised**: questo metodo viene chiamato supervisionato poiché forniamo all'algoritmo non solo gli input, ma anche gli obiettivi, ovvero gli output desiderati. Questo apprendimento automatico supervisionato è stato al centro di quasi tutti gli esempi che abbiamo visto finora.<br>\n",
    "  Sulla base di tali informazioni, l'algoritmo impara a produrre output il più vicino possibile agli obiettivi.<br>\n",
    "  La funzione obiettivo nell'apprendimento supervisionato è chiamata *loss function* (anche costo o errore). Stiamo cercando di ridurre al minimo la perdita in quanto minore è la funzione di perdita, maggiore è la precisione del modello.<br>\n",
    "  Metodi comuni:\n",
    "    - Regressione\n",
    "    - Classificazione\n",
    "  \n",
    "  \n",
    "2) **Unsupervised**: nell'apprendimento automatico senza supervisione, il modello viene alimentato con gli input, ma non con obiettivi. Al modello viene invece cheisto di trovare una sorta di dipendenza o logica sottostante nei dati forniti.<br>\n",
    "  Ad esempio, potremmo avere i dati finanziari per 100 paesi. Il modello riesce a dividerli (cluster) in 5 gruppi. Esaminate quindi i 5 cluster e giungete alla conclusione che i gruppi sono: “Developed”, “Developing but overachieving”, “Developing but underachieving”, “Stagnating”, e “Worsening”.<br>\n",
    "  L'algoritmo ha diviso i paesi in 5 gruppi in base alle somiglianze dei loro dati osservati, ma non è in grado di sapere quali somiglianze ha ravvisato e quindi quali gruppi sono emersi dalla clusterizzazione.. Potrebbe averli divisi per posizione invece.<br>\n",
    "  Metodi comuni:\n",
    "    - Clustering\n",
    "\n",
    "\n",
    "3) **Reinforcement**: nel ML reinforcement, l'obiettivo dell'algoritmo è massimizzare la sua ricompensa. Questo metodo è ispirato dal comportamento umano e dal modo in cui le persone cambiano le loro azioni in base a degli incentivi: ottenere una ricompensa o evitare la punizione.<br>\n",
    "  La funzione obiettivo è chiamata funzione di ricompensa, la fase di apprendimento del modello mira a massimizzare la funzione di ricompensa.<br>\n",
    "  Un esempio è un computer che gioca a Super Mario. Più alto è il punteggio raggiunto, migliore è il rendimento. Il punteggio in questo caso è la funzione obiettivo.<br>\n",
    "  Metodi comuni:\n",
    "    - Processo decisionale\n",
    "    - Sistema di ricompensa"
   ]
  },
  {
   "cell_type": "markdown",
   "metadata": {},
   "source": [
    "<a id='section1'></a>\n",
    "## Deep Learning"
   ]
  },
  {
   "cell_type": "markdown",
   "metadata": {},
   "source": [
    "Il Deep Learning, la cui traduzione letterale significa apprendimento profondo, è una sottocategoria del Machine Learning (che letteralmente viene tradotto come apprendimento automatico) e indica quella branca dell’Intelligenza Artificiale che fa riferimento agli algoritmi ispirati alla struttura e alla funzione del cervello chiamate reti neurali artificiali.\n",
    "\n",
    "Il Deep Learning (noto anche come apprendimento strutturato profondo o apprendimento gerarchico) fa parte di una più ampia famiglia di metodi di Machine Learning basati sull’assimilazione di rappresentazioni di dati, al contrario di algoritmi per l’esecuzione di task specifici.\n",
    "\n",
    "Le architetture di Deep Learning (con le quali oggi si riporta all’attenzione anche del grande pubblico il concetto di rete neurale artificiale) sono per esempio state applicate nella computer vision, nel riconoscimento automatico della lingua parlata, nell’elaborazione del linguaggio naturale, nel riconoscimento audio e nella bioinformatica (l’utilizzo di strumenti informatici per descrivere dal punto di vista numerico e statistico determinati fenomeni biologici  come le sequenze di geni, la composizione e la struttura delle proteine, i processi biochimici nelle cellule, ecc.).\n",
    "\n",
    "Raccogliendo le diverse interpretazioni di alcuni tra i più noti ricercatori e scienziati nel campo dell’apprendimento profondo (quali: Andrew Yan-Tak Ng, fondatore di Google Brain, Chief Scientist di Baidu e professore e Director dell’AI Lab alla Stanford University; Ian J. Goodfellow, ricercatore riconosciuto come uno dei migliori innovatori del mondo – under 35 – dal MIT di Boston; Yoshua Bengio, uno degli scienziati più riconosciuti proprio nel campo del Deep Learning; Ilya Sutskever, Reasearch Director di OpenAI; Geoffrey Everest Hinton, una delle figure chiave del Deep Learning e dell’Intelligenza artificiale, primo ricercatore ad aver dimostrato l’uso di un algoritmo di backpropagation generalizzato per l’addestramento di reti neurali multistrato…), potremmo definire il Deep Learning come un sistema che sfrutta una classe di algoritmi di apprendimento automatico che:\n",
    "\n",
    "1. usano vari livelli di unità non lineari a cascata per svolgere compiti di estrazione di caratteristiche e di trasformazione. Ciascun livello successivo utilizza l’uscita del livello precedente come input. Gli algoritmi possono essere sia di tipo supervisionato sia non supervisionato e le applicazioni includono l’analisi di pattern (apprendimento non supervisionato) e classificazione (apprendimento supervisionato);\n",
    "\n",
    "2. sono basati sull’apprendimento non supervisionato di livelli gerarchici multipli di caratteristiche (e di rappresentazioni) dei dati. Le caratteristiche di più alto livello vengono derivate da quelle di livello più basso per creare una rappresentazione gerarchica;\n",
    "\n",
    "3. fanno parte della più ampia classe di algoritmi di apprendimento della rappresentazione dei dati all’interno dell’apprendimento automatico (Machine Learning);\n",
    "\n",
    "4. apprendono multipli livelli di rappresentazione che corrispondono a differenti livelli di astrazione; questi livelli formano una gerarchia di concetti."
   ]
  },
  {
   "cell_type": "markdown",
   "metadata": {},
   "source": [
    "<img src=\"img/Deep-Learning.jpg\">"
   ]
  },
  {
   "cell_type": "markdown",
   "metadata": {},
   "source": [
    "In generale, il Deep Learning è un metodo di apprendimento automatico che accetta un input X e lo utilizza per prevedere un output di Y. Ad esempio, dati i prezzi delle scorte della settimana passata come input, il mio algoritmo di deep learning proverà a prevedere il prezzo delle azioni del giorno successivo.\n",
    "\n",
    "Dato un grande set di dati di coppie di input e output, un algoritmo di deep learning proverà a minimizzare la differenza tra la sua previsione e l'output atteso. In questo modo, cerca di apprendere l'associazione / modello tra input e output dati - questo a sua volta consente a un modello di deep learning di generalizzare a input che non ha mai visto prima."
   ]
  },
  {
   "cell_type": "markdown",
   "metadata": {},
   "source": [
    "<img src=\"img/deep.gif\">"
   ]
  },
  {
   "cell_type": "markdown",
   "metadata": {},
   "source": [
    "<a id='section2'></a>\n",
    "## Come impara un algoritmo di Deep Learning"
   ]
  },
  {
   "cell_type": "markdown",
   "metadata": {},
   "source": [
    "Gli algoritmi di Deep Learning usano qualcosa chiamata rete neurale per trovare associazioni tra un insieme di input e output. La struttura di base è la seguente:"
   ]
  },
  {
   "cell_type": "markdown",
   "metadata": {},
   "source": [
    "<img src=\"img/dl.jpg\">"
   ]
  },
  {
   "cell_type": "markdown",
   "metadata": {},
   "source": [
    "Una rete neurale è composta da input, hidden e livelli di output, tutti composti da \"nodi\". I livelli di input comprendono una rappresentazione numerica dei dati (ad esempio immagini con specifiche dei pixel), le previsioni di output dei livelli di output, mentre i livelli nascosti sono correlati con la maggior parte del calcolo."
   ]
  },
  {
   "cell_type": "markdown",
   "metadata": {},
   "source": [
    "Alla base di una rete neurale vi è un processo di regressione e quindi di algebra lineare.\n",
    "Le reti neurali si basano principalmente sulla simulazione di neuroni artificiali opportunamente collegati. Il modello rappresentato in figura è quello proposto da McCulloch e Pitts.\n",
    "\n",
    "<img src=\"img/neurone.png\">"
   ]
  },
  {
   "cell_type": "markdown",
   "metadata": {},
   "source": [
    "<img src=\"img/neuron.png\">"
   ]
  },
  {
   "cell_type": "markdown",
   "metadata": {},
   "source": [
    "<a id='section3'></a>\n",
    "## Funzioni di attivazione"
   ]
  },
  {
   "cell_type": "markdown",
   "metadata": {},
   "source": [
    "Lo scopo di ciascun nodo nella rete neurale feed forward consiste nell’accettare valori di input e immettere un valore di output nello strato immediatamente successivo. I nodi di input inseriscono i valori delle variabili nello strato nascosto senza modificarli. \n",
    "Ogni nodo di uno strato nascosto riceve l’input dai nodi connessi dello strato precedente (output del nodo moltiplicato per il peso della connessione), combina tali valori in un valore singolo che utilizza come input della funzione di attivazione. \n",
    "La funzione di attivazione deve soddisfare alcuni criteri: \n",
    "\n",
    "- deve avere valori di output compresi nell’intervallo {0, 1}; \n",
    "- deve fornire un valore di output vicino ad 1 quando viene sufficientemente stimolata (effetto soglia), per propagare l’attività all’interno della rete (come avviene per i neuroni naturali). \n",
    "\n",
    "La cosiddetta funzione sigmoide soddisfa entrambi questi criteri ed è calcolata come segue: \n",
    "\n",
    "$$F(x) = {1 \\over {1 + e ^ {-x}}}$$"
   ]
  },
  {
   "cell_type": "markdown",
   "metadata": {},
   "source": [
    "Grafico della funzione sigmoide: \n",
    "<img src=\"img/sigmoide.png\">"
   ]
  },
  {
   "cell_type": "markdown",
   "metadata": {},
   "source": [
    "Altri esempi di funzioni di attivazione sono visibli qui [su WikiPedia](https://en.wikipedia.org/wiki/Activation_function)."
   ]
  },
  {
   "cell_type": "markdown",
   "metadata": {},
   "source": [
    "<a id='section4'></a>\n",
    "## Cataloghiamo Iris"
   ]
  },
  {
   "cell_type": "markdown",
   "metadata": {},
   "source": [
    "Ricorderete il dataset della vostra scorsa che contiene i fiori Iris:"
   ]
  },
  {
   "cell_type": "code",
   "execution_count": 23,
   "metadata": {},
   "outputs": [
    {
     "data": {
      "image/png": "[encoded data removed]",
      "text/plain": [
       "<Figure size 432x288 with 1 Axes>"
      ]
     },
     "metadata": {
      "needs_background": "light"
     },
     "output_type": "display_data"
    }
   ],
   "source": [
    "import numpy as np\n",
    "import pandas as pd\n",
    "import matplotlib.pyplot as plt\n",
    "import matplotlib.cm as cm\n",
    "from sklearn.cluster import KMeans\n",
    "%matplotlib inline\n",
    "\n",
    "iris = pd.read_csv('data/iris-with-answers.csv')\n",
    "\n",
    "# Create a scatter plot based on two corresponding features (sepal_length and sepal_width; OR petal_length and petal_width)\n",
    "plt.scatter(iris['sepal_length'], iris['sepal_width'])\n",
    "# Name your axes\n",
    "plt.xlabel('Lenght of sepal')\n",
    "plt.ylabel('Width of sepal')\n",
    "plt.show()"
   ]
  },
  {
   "cell_type": "code",
   "execution_count": 24,
   "metadata": {},
   "outputs": [
    {
     "data": {
      "text/html": [
       "<div>\n",
       "<style scoped>\n",
       "    .dataframe tbody tr th:only-of-type {\n",
       "        vertical-align: middle;\n",
       "    }\n",
       "\n",
       "    .dataframe tbody tr th {\n",
       "        vertical-align: top;\n",
       "    }\n",
       "\n",
       "    .dataframe thead th {\n",
       "        text-align: right;\n",
       "    }\n",
       "</style>\n",
       "<table border=\"1\" class=\"dataframe\">\n",
       "  <thead>\n",
       "    <tr style=\"text-align: right;\">\n",
       "      <th></th>\n",
       "      <th>sepal_length</th>\n",
       "      <th>sepal_width</th>\n",
       "      <th>petal_length</th>\n",
       "      <th>petal_width</th>\n",
       "      <th>species</th>\n",
       "    </tr>\n",
       "  </thead>\n",
       "  <tbody>\n",
       "    <tr>\n",
       "      <th>0</th>\n",
       "      <td>5.1</td>\n",
       "      <td>3.5</td>\n",
       "      <td>1.4</td>\n",
       "      <td>0.2</td>\n",
       "      <td>setosa</td>\n",
       "    </tr>\n",
       "    <tr>\n",
       "      <th>1</th>\n",
       "      <td>4.9</td>\n",
       "      <td>3.0</td>\n",
       "      <td>1.4</td>\n",
       "      <td>0.2</td>\n",
       "      <td>setosa</td>\n",
       "    </tr>\n",
       "    <tr>\n",
       "      <th>2</th>\n",
       "      <td>4.7</td>\n",
       "      <td>3.2</td>\n",
       "      <td>1.3</td>\n",
       "      <td>0.2</td>\n",
       "      <td>setosa</td>\n",
       "    </tr>\n",
       "    <tr>\n",
       "      <th>3</th>\n",
       "      <td>4.6</td>\n",
       "      <td>3.1</td>\n",
       "      <td>1.5</td>\n",
       "      <td>0.2</td>\n",
       "      <td>setosa</td>\n",
       "    </tr>\n",
       "    <tr>\n",
       "      <th>4</th>\n",
       "      <td>5.0</td>\n",
       "      <td>3.6</td>\n",
       "      <td>1.4</td>\n",
       "      <td>0.2</td>\n",
       "      <td>setosa</td>\n",
       "    </tr>\n",
       "  </tbody>\n",
       "</table>\n",
       "</div>"
      ],
      "text/plain": [
       "   sepal_length  sepal_width  petal_length  petal_width species\n",
       "0           5.1          3.5           1.4          0.2  setosa\n",
       "1           4.9          3.0           1.4          0.2  setosa\n",
       "2           4.7          3.2           1.3          0.2  setosa\n",
       "3           4.6          3.1           1.5          0.2  setosa\n",
       "4           5.0          3.6           1.4          0.2  setosa"
      ]
     },
     "execution_count": 24,
     "metadata": {},
     "output_type": "execute_result"
    }
   ],
   "source": [
    "iris.head()"
   ]
  },
  {
   "cell_type": "markdown",
   "metadata": {},
   "source": [
    "Possiamo uasre la libreria seaborn per vedere rapidamente quali sono i dati contenuti nel dataset e per produrre dei pairplot:"
   ]
  },
  {
   "cell_type": "code",
   "execution_count": 25,
   "metadata": {},
   "outputs": [
    {
     "data": {
      "image/png": "[encoded data removed]",
      "text/plain": [
       "<Figure size 804.75x720 with 20 Axes>"
      ]
     },
     "metadata": {
      "needs_background": "light"
     },
     "output_type": "display_data"
    }
   ],
   "source": [
    "import seaborn as sns\n",
    "sns.pairplot(data=iris, hue='species')\n",
    "plt.show()"
   ]
  },
  {
   "cell_type": "markdown",
   "metadata": {},
   "source": [
    "Normalizziamo nuovamente i dati, come fatto a lezione la volta scorsa:"
   ]
  },
  {
   "cell_type": "code",
   "execution_count": 26,
   "metadata": {},
   "outputs": [],
   "source": [
    "# import some preprocessing module\n",
    "from sklearn import preprocessing\n",
    "\n",
    "# scale the data for better results\n",
    "x_scaled = preprocessing.scale(iris.iloc[:,0:4])"
   ]
  },
  {
   "cell_type": "markdown",
   "metadata": {},
   "source": [
    "Ora proviamo, con Keras, a creare un modello in grado di classificare i fiori nelle 3 specie in base alle caratteristiche del sepalo e del petalo:"
   ]
  },
  {
   "cell_type": "code",
   "execution_count": 27,
   "metadata": {},
   "outputs": [],
   "source": [
    "import numpy as np\n",
    "import matplotlib.pyplot as plt\n",
    "\n",
    "import tensorflow as tf\n",
    "import tensorflow.keras as keras\n",
    "\n",
    "from tensorflow.keras.models import Sequential\n",
    "from tensorflow.keras.layers import Dense, ReLU\n",
    "\n",
    "from sklearn.preprocessing import StandardScaler, LabelBinarizer"
   ]
  },
  {
   "cell_type": "markdown",
   "metadata": {},
   "source": [
    "Selezioniamo le variaibli indipendenti e dipendenti, scaliamole e mappiamo la feature 'species' in modo che possa essere utilizzata come variabile nell'algoritmo di ML:"
   ]
  },
  {
   "cell_type": "code",
   "execution_count": 28,
   "metadata": {},
   "outputs": [],
   "source": [
    "X = iris[['sepal_length', 'sepal_width', 'petal_length', 'petal_width']]\n",
    "y = iris['species']\n",
    "\n",
    "X = StandardScaler().fit_transform(X)\n",
    "y = LabelBinarizer().fit_transform(y)"
   ]
  },
  {
   "cell_type": "markdown",
   "metadata": {},
   "source": [
    "Dividiamo il dataset tra training e learning:"
   ]
  },
  {
   "cell_type": "code",
   "execution_count": 29,
   "metadata": {},
   "outputs": [],
   "source": [
    "from sklearn.model_selection import train_test_split\n",
    "x_train, x_test, y_train, y_test = train_test_split(X, y, test_size=0.2)"
   ]
  },
  {
   "cell_type": "markdown",
   "metadata": {},
   "source": [
    "Creiamo il modello con Keras aggiungendo i vari layer della nostra rete di deep learning:"
   ]
  },
  {
   "cell_type": "code",
   "execution_count": 30,
   "metadata": {},
   "outputs": [
    {
     "name": "stdout",
     "output_type": "stream",
     "text": [
      "Epoch 1/120\n",
      "4/4 [==============================] - 0s 27ms/step - loss: 1.3097 - accuracy: 0.1500 - val_loss: 1.2655 - val_accuracy: 0.1000\n",
      "Epoch 2/120\n",
      "4/4 [==============================] - 0s 7ms/step - loss: 1.2468 - accuracy: 0.1667 - val_loss: 1.2001 - val_accuracy: 0.1667\n",
      "Epoch 3/120\n",
      "4/4 [==============================] - 0s 10ms/step - loss: 1.1920 - accuracy: 0.1833 - val_loss: 1.1388 - val_accuracy: 0.1667\n",
      "Epoch 4/120\n",
      "4/4 [==============================] - 0s 9ms/step - loss: 1.1419 - accuracy: 0.1750 - val_loss: 1.0861 - val_accuracy: 0.2000\n",
      "Epoch 5/120\n",
      "4/4 [==============================] - 0s 8ms/step - loss: 1.0960 - accuracy: 0.1750 - val_loss: 1.0390 - val_accuracy: 0.4000\n",
      "Epoch 6/120\n",
      "4/4 [==============================] - 0s 8ms/step - loss: 1.0506 - accuracy: 0.3417 - val_loss: 0.9934 - val_accuracy: 0.5333\n",
      "Epoch 7/120\n",
      "4/4 [==============================] - 0s 11ms/step - loss: 1.0084 - accuracy: 0.4667 - val_loss: 0.9499 - val_accuracy: 0.5333\n",
      "Epoch 8/120\n",
      "4/4 [==============================] - 0s 7ms/step - loss: 0.9669 - accuracy: 0.5167 - val_loss: 0.9094 - val_accuracy: 0.5667\n",
      "Epoch 9/120\n",
      "4/4 [==============================] - 0s 7ms/step - loss: 0.9277 - accuracy: 0.5500 - val_loss: 0.8702 - val_accuracy: 0.5667\n",
      "Epoch 10/120\n",
      "4/4 [==============================] - 0s 6ms/step - loss: 0.8916 - accuracy: 0.5750 - val_loss: 0.8334 - val_accuracy: 0.6333\n",
      "Epoch 11/120\n",
      "4/4 [==============================] - 0s 6ms/step - loss: 0.8565 - accuracy: 0.6333 - val_loss: 0.8002 - val_accuracy: 0.7000\n",
      "Epoch 12/120\n",
      "4/4 [==============================] - 0s 7ms/step - loss: 0.8226 - accuracy: 0.7083 - val_loss: 0.7710 - val_accuracy: 0.8000\n",
      "Epoch 13/120\n",
      "4/4 [==============================] - 0s 7ms/step - loss: 0.7939 - accuracy: 0.7750 - val_loss: 0.7451 - val_accuracy: 0.8000\n",
      "Epoch 14/120\n",
      "4/4 [==============================] - 0s 7ms/step - loss: 0.7675 - accuracy: 0.7833 - val_loss: 0.7219 - val_accuracy: 0.8000\n",
      "Epoch 15/120\n",
      "4/4 [==============================] - 0s 7ms/step - loss: 0.7427 - accuracy: 0.7917 - val_loss: 0.7006 - val_accuracy: 0.8000\n",
      "Epoch 16/120\n",
      "4/4 [==============================] - 0s 8ms/step - loss: 0.7206 - accuracy: 0.8083 - val_loss: 0.6809 - val_accuracy: 0.8000\n",
      "Epoch 17/120\n",
      "4/4 [==============================] - 0s 7ms/step - loss: 0.7009 - accuracy: 0.8083 - val_loss: 0.6625 - val_accuracy: 0.8000\n",
      "Epoch 18/120\n",
      "4/4 [==============================] - 0s 6ms/step - loss: 0.6823 - accuracy: 0.8083 - val_loss: 0.6451 - val_accuracy: 0.8333\n",
      "Epoch 19/120\n",
      "4/4 [==============================] - 0s 7ms/step - loss: 0.6659 - accuracy: 0.8167 - val_loss: 0.6296 - val_accuracy: 0.8000\n",
      "Epoch 20/120\n",
      "4/4 [==============================] - 0s 7ms/step - loss: 0.6491 - accuracy: 0.8250 - val_loss: 0.6143 - val_accuracy: 0.8000\n",
      "Epoch 21/120\n",
      "4/4 [==============================] - 0s 7ms/step - loss: 0.6336 - accuracy: 0.8250 - val_loss: 0.5999 - val_accuracy: 0.8333\n",
      "Epoch 22/120\n",
      "4/4 [==============================] - 0s 7ms/step - loss: 0.6184 - accuracy: 0.8250 - val_loss: 0.5855 - val_accuracy: 0.8333\n",
      "Epoch 23/120\n",
      "4/4 [==============================] - 0s 8ms/step - loss: 0.6027 - accuracy: 0.8250 - val_loss: 0.5714 - val_accuracy: 0.8333\n",
      "Epoch 24/120\n",
      "4/4 [==============================] - 0s 8ms/step - loss: 0.5873 - accuracy: 0.8417 - val_loss: 0.5588 - val_accuracy: 0.8333\n",
      "Epoch 25/120\n",
      "4/4 [==============================] - 0s 8ms/step - loss: 0.5721 - accuracy: 0.8417 - val_loss: 0.5454 - val_accuracy: 0.8333\n",
      "Epoch 26/120\n",
      "4/4 [==============================] - 0s 10ms/step - loss: 0.5567 - accuracy: 0.8583 - val_loss: 0.5325 - val_accuracy: 0.8333\n",
      "Epoch 27/120\n",
      "4/4 [==============================] - 0s 8ms/step - loss: 0.5407 - accuracy: 0.8583 - val_loss: 0.5182 - val_accuracy: 0.8333\n",
      "Epoch 28/120\n",
      "4/4 [==============================] - 0s 8ms/step - loss: 0.5249 - accuracy: 0.8667 - val_loss: 0.5036 - val_accuracy: 0.8333\n",
      "Epoch 29/120\n",
      "4/4 [==============================] - 0s 9ms/step - loss: 0.5088 - accuracy: 0.8667 - val_loss: 0.4909 - val_accuracy: 0.8333\n",
      "Epoch 30/120\n",
      "4/4 [==============================] - 0s 9ms/step - loss: 0.4935 - accuracy: 0.8667 - val_loss: 0.4807 - val_accuracy: 0.8333\n",
      "Epoch 31/120\n",
      "4/4 [==============================] - 0s 10ms/step - loss: 0.4769 - accuracy: 0.8667 - val_loss: 0.4693 - val_accuracy: 0.8333\n",
      "Epoch 32/120\n",
      "4/4 [==============================] - 0s 10ms/step - loss: 0.4610 - accuracy: 0.8667 - val_loss: 0.4600 - val_accuracy: 0.8333\n",
      "Epoch 33/120\n",
      "4/4 [==============================] - 0s 8ms/step - loss: 0.4449 - accuracy: 0.8750 - val_loss: 0.4509 - val_accuracy: 0.8333\n",
      "Epoch 34/120\n",
      "4/4 [==============================] - 0s 9ms/step - loss: 0.4281 - accuracy: 0.8833 - val_loss: 0.4423 - val_accuracy: 0.8333\n",
      "Epoch 35/120\n",
      "4/4 [==============================] - 0s 10ms/step - loss: 0.4130 - accuracy: 0.8833 - val_loss: 0.4317 - val_accuracy: 0.8667\n",
      "Epoch 36/120\n",
      "4/4 [==============================] - 0s 7ms/step - loss: 0.3955 - accuracy: 0.8917 - val_loss: 0.4239 - val_accuracy: 0.8667\n",
      "Epoch 37/120\n",
      "4/4 [==============================] - 0s 9ms/step - loss: 0.3809 - accuracy: 0.8917 - val_loss: 0.4170 - val_accuracy: 0.8667\n",
      "Epoch 38/120\n",
      "4/4 [==============================] - 0s 8ms/step - loss: 0.3652 - accuracy: 0.8917 - val_loss: 0.4094 - val_accuracy: 0.8667\n",
      "Epoch 39/120\n",
      "4/4 [==============================] - 0s 7ms/step - loss: 0.3495 - accuracy: 0.9083 - val_loss: 0.4009 - val_accuracy: 0.8667\n",
      "Epoch 40/120\n",
      "4/4 [==============================] - 0s 7ms/step - loss: 0.3344 - accuracy: 0.9167 - val_loss: 0.3938 - val_accuracy: 0.8667\n",
      "Epoch 41/120\n",
      "4/4 [==============================] - 0s 7ms/step - loss: 0.3180 - accuracy: 0.9167 - val_loss: 0.3883 - val_accuracy: 0.8667\n",
      "Epoch 42/120\n",
      "4/4 [==============================] - 0s 7ms/step - loss: 0.3027 - accuracy: 0.9250 - val_loss: 0.3830 - val_accuracy: 0.8667\n",
      "Epoch 43/120\n",
      "4/4 [==============================] - 0s 7ms/step - loss: 0.2871 - accuracy: 0.9250 - val_loss: 0.3785 - val_accuracy: 0.8667\n",
      "Epoch 44/120\n",
      "4/4 [==============================] - 0s 7ms/step - loss: 0.2733 - accuracy: 0.9250 - val_loss: 0.3740 - val_accuracy: 0.8667\n",
      "Epoch 45/120\n",
      "4/4 [==============================] - 0s 9ms/step - loss: 0.2588 - accuracy: 0.9333 - val_loss: 0.3703 - val_accuracy: 0.8667\n",
      "Epoch 46/120\n",
      "4/4 [==============================] - 0s 8ms/step - loss: 0.2445 - accuracy: 0.9500 - val_loss: 0.3651 - val_accuracy: 0.8667\n",
      "Epoch 47/120\n",
      "4/4 [==============================] - 0s 8ms/step - loss: 0.2320 - accuracy: 0.9500 - val_loss: 0.3599 - val_accuracy: 0.8667\n",
      "Epoch 48/120\n",
      "4/4 [==============================] - 0s 8ms/step - loss: 0.2188 - accuracy: 0.9583 - val_loss: 0.3555 - val_accuracy: 0.8667\n",
      "Epoch 49/120\n",
      "4/4 [==============================] - 0s 8ms/step - loss: 0.2070 - accuracy: 0.9583 - val_loss: 0.3510 - val_accuracy: 0.9000\n",
      "Epoch 50/120\n",
      "4/4 [==============================] - 0s 7ms/step - loss: 0.1954 - accuracy: 0.9583 - val_loss: 0.3476 - val_accuracy: 0.9000\n",
      "Epoch 51/120\n",
      "4/4 [==============================] - 0s 7ms/step - loss: 0.1843 - accuracy: 0.9583 - val_loss: 0.3436 - val_accuracy: 0.9000\n",
      "Epoch 52/120\n",
      "4/4 [==============================] - 0s 7ms/step - loss: 0.1749 - accuracy: 0.9667 - val_loss: 0.3408 - val_accuracy: 0.9000\n",
      "Epoch 53/120\n",
      "4/4 [==============================] - 0s 7ms/step - loss: 0.1638 - accuracy: 0.9750 - val_loss: 0.3372 - val_accuracy: 0.9000\n",
      "Epoch 54/120\n",
      "4/4 [==============================] - 0s 8ms/step - loss: 0.1556 - accuracy: 0.9750 - val_loss: 0.3333 - val_accuracy: 0.9000\n",
      "Epoch 55/120\n",
      "4/4 [==============================] - 0s 7ms/step - loss: 0.1479 - accuracy: 0.9750 - val_loss: 0.3292 - val_accuracy: 0.9000\n",
      "Epoch 56/120\n",
      "4/4 [==============================] - 0s 7ms/step - loss: 0.1393 - accuracy: 0.9750 - val_loss: 0.3264 - val_accuracy: 0.9000\n",
      "Epoch 57/120\n",
      "4/4 [==============================] - 0s 7ms/step - loss: 0.1324 - accuracy: 0.9833 - val_loss: 0.3248 - val_accuracy: 0.9000\n",
      "Epoch 58/120\n",
      "4/4 [==============================] - 0s 7ms/step - loss: 0.1259 - accuracy: 0.9833 - val_loss: 0.3227 - val_accuracy: 0.9000\n",
      "Epoch 59/120\n",
      "4/4 [==============================] - 0s 8ms/step - loss: 0.1197 - accuracy: 0.9833 - val_loss: 0.3214 - val_accuracy: 0.9000\n",
      "Epoch 60/120\n",
      "4/4 [==============================] - 0s 6ms/step - loss: 0.1137 - accuracy: 0.9833 - val_loss: 0.3205 - val_accuracy: 0.9000\n",
      "Epoch 61/120\n",
      "4/4 [==============================] - 0s 6ms/step - loss: 0.1085 - accuracy: 0.9833 - val_loss: 0.3192 - val_accuracy: 0.9000\n",
      "Epoch 62/120\n",
      "4/4 [==============================] - 0s 6ms/step - loss: 0.1036 - accuracy: 0.9833 - val_loss: 0.3175 - val_accuracy: 0.9000\n",
      "Epoch 63/120\n",
      "4/4 [==============================] - 0s 6ms/step - loss: 0.0999 - accuracy: 0.9833 - val_loss: 0.3179 - val_accuracy: 0.9000\n",
      "Epoch 64/120\n",
      "4/4 [==============================] - 0s 8ms/step - loss: 0.0947 - accuracy: 0.9833 - val_loss: 0.3148 - val_accuracy: 0.9000\n",
      "Epoch 65/120\n",
      "4/4 [==============================] - 0s 6ms/step - loss: 0.0910 - accuracy: 0.9833 - val_loss: 0.3126 - val_accuracy: 0.9000\n",
      "Epoch 66/120\n",
      "4/4 [==============================] - 0s 6ms/step - loss: 0.0873 - accuracy: 0.9833 - val_loss: 0.3117 - val_accuracy: 0.9000\n",
      "Epoch 67/120\n",
      "4/4 [==============================] - 0s 6ms/step - loss: 0.0837 - accuracy: 0.9833 - val_loss: 0.3107 - val_accuracy: 0.9000\n",
      "Epoch 68/120\n",
      "4/4 [==============================] - 0s 6ms/step - loss: 0.0803 - accuracy: 0.9917 - val_loss: 0.3108 - val_accuracy: 0.9000\n",
      "Epoch 69/120\n",
      "4/4 [==============================] - 0s 7ms/step - loss: 0.0775 - accuracy: 0.9917 - val_loss: 0.3102 - val_accuracy: 0.9000\n",
      "Epoch 70/120\n",
      "4/4 [==============================] - 0s 6ms/step - loss: 0.0748 - accuracy: 0.9917 - val_loss: 0.3091 - val_accuracy: 0.9000\n",
      "Epoch 71/120\n",
      "4/4 [==============================] - 0s 6ms/step - loss: 0.0721 - accuracy: 0.9833 - val_loss: 0.3060 - val_accuracy: 0.9000\n",
      "Epoch 72/120\n",
      "4/4 [==============================] - 0s 6ms/step - loss: 0.0696 - accuracy: 0.9833 - val_loss: 0.3055 - val_accuracy: 0.9000\n",
      "Epoch 73/120\n",
      "4/4 [==============================] - 0s 7ms/step - loss: 0.0681 - accuracy: 0.9833 - val_loss: 0.3071 - val_accuracy: 0.9000\n",
      "Epoch 74/120\n",
      "4/4 [==============================] - 0s 6ms/step - loss: 0.0652 - accuracy: 0.9917 - val_loss: 0.3077 - val_accuracy: 0.9000\n",
      "Epoch 75/120\n",
      "4/4 [==============================] - 0s 7ms/step - loss: 0.0629 - accuracy: 0.9917 - val_loss: 0.3071 - val_accuracy: 0.9000\n",
      "Epoch 76/120\n",
      "4/4 [==============================] - 0s 7ms/step - loss: 0.0610 - accuracy: 0.9917 - val_loss: 0.3053 - val_accuracy: 0.9000\n",
      "Epoch 77/120\n",
      "4/4 [==============================] - 0s 7ms/step - loss: 0.0593 - accuracy: 0.9833 - val_loss: 0.3054 - val_accuracy: 0.9000\n",
      "Epoch 78/120\n",
      "4/4 [==============================] - 0s 7ms/step - loss: 0.0575 - accuracy: 0.9833 - val_loss: 0.3044 - val_accuracy: 0.9000\n",
      "Epoch 79/120\n",
      "4/4 [==============================] - 0s 7ms/step - loss: 0.0564 - accuracy: 0.9833 - val_loss: 0.3050 - val_accuracy: 0.9000\n",
      "Epoch 80/120\n",
      "4/4 [==============================] - 0s 7ms/step - loss: 0.0547 - accuracy: 0.9833 - val_loss: 0.3062 - val_accuracy: 0.9000\n",
      "Epoch 81/120\n",
      "4/4 [==============================] - 0s 7ms/step - loss: 0.0529 - accuracy: 0.9917 - val_loss: 0.3114 - val_accuracy: 0.9000\n",
      "Epoch 82/120\n",
      "4/4 [==============================] - 0s 7ms/step - loss: 0.0522 - accuracy: 0.9917 - val_loss: 0.3139 - val_accuracy: 0.8667\n",
      "Epoch 83/120\n",
      "4/4 [==============================] - 0s 9ms/step - loss: 0.0512 - accuracy: 0.9917 - val_loss: 0.3143 - val_accuracy: 0.8667\n",
      "Epoch 84/120\n",
      "4/4 [==============================] - 0s 7ms/step - loss: 0.0494 - accuracy: 0.9917 - val_loss: 0.3100 - val_accuracy: 0.9000\n",
      "Epoch 85/120\n",
      "4/4 [==============================] - 0s 7ms/step - loss: 0.0479 - accuracy: 0.9917 - val_loss: 0.3093 - val_accuracy: 0.9000\n",
      "Epoch 86/120\n",
      "4/4 [==============================] - 0s 7ms/step - loss: 0.0467 - accuracy: 0.9917 - val_loss: 0.3077 - val_accuracy: 0.9000\n",
      "Epoch 87/120\n",
      "4/4 [==============================] - 0s 8ms/step - loss: 0.0465 - accuracy: 0.9833 - val_loss: 0.3055 - val_accuracy: 0.9000\n",
      "Epoch 88/120\n",
      "4/4 [==============================] - 0s 7ms/step - loss: 0.0452 - accuracy: 0.9833 - val_loss: 0.3083 - val_accuracy: 0.9000\n",
      "Epoch 89/120\n",
      "4/4 [==============================] - 0s 7ms/step - loss: 0.0437 - accuracy: 0.9917 - val_loss: 0.3113 - val_accuracy: 0.9000\n",
      "Epoch 90/120\n",
      "4/4 [==============================] - 0s 6ms/step - loss: 0.0432 - accuracy: 0.9917 - val_loss: 0.3181 - val_accuracy: 0.8667\n",
      "Epoch 91/120\n",
      "4/4 [==============================] - 0s 6ms/step - loss: 0.0425 - accuracy: 0.9917 - val_loss: 0.3167 - val_accuracy: 0.8667\n",
      "Epoch 92/120\n",
      "4/4 [==============================] - 0s 7ms/step - loss: 0.0414 - accuracy: 0.9917 - val_loss: 0.3162 - val_accuracy: 0.9000\n",
      "Epoch 93/120\n",
      "4/4 [==============================] - 0s 8ms/step - loss: 0.0409 - accuracy: 0.9917 - val_loss: 0.3131 - val_accuracy: 0.9000\n",
      "Epoch 94/120\n",
      "4/4 [==============================] - 0s 6ms/step - loss: 0.0400 - accuracy: 0.9917 - val_loss: 0.3150 - val_accuracy: 0.9000\n",
      "Epoch 95/120\n",
      "4/4 [==============================] - 0s 7ms/step - loss: 0.0390 - accuracy: 0.9917 - val_loss: 0.3156 - val_accuracy: 0.9000\n",
      "Epoch 96/120\n",
      "4/4 [==============================] - 0s 7ms/step - loss: 0.0384 - accuracy: 0.9917 - val_loss: 0.3174 - val_accuracy: 0.9000\n",
      "Epoch 97/120\n",
      "4/4 [==============================] - 0s 6ms/step - loss: 0.0377 - accuracy: 0.9917 - val_loss: 0.3162 - val_accuracy: 0.9000\n",
      "Epoch 98/120\n",
      "4/4 [==============================] - 0s 6ms/step - loss: 0.0371 - accuracy: 0.9917 - val_loss: 0.3153 - val_accuracy: 0.9000\n",
      "Epoch 99/120\n",
      "4/4 [==============================] - 0s 7ms/step - loss: 0.0370 - accuracy: 0.9917 - val_loss: 0.3179 - val_accuracy: 0.9000\n",
      "Epoch 100/120\n",
      "4/4 [==============================] - 0s 6ms/step - loss: 0.0358 - accuracy: 0.9917 - val_loss: 0.3188 - val_accuracy: 0.9000\n",
      "Epoch 101/120\n",
      "4/4 [==============================] - 0s 6ms/step - loss: 0.0352 - accuracy: 0.9917 - val_loss: 0.3219 - val_accuracy: 0.9000\n",
      "Epoch 102/120\n",
      "4/4 [==============================] - 0s 8ms/step - loss: 0.0352 - accuracy: 0.9917 - val_loss: 0.3243 - val_accuracy: 0.8667\n",
      "Epoch 103/120\n",
      "4/4 [==============================] - 0s 6ms/step - loss: 0.0344 - accuracy: 0.9917 - val_loss: 0.3194 - val_accuracy: 0.9000\n",
      "Epoch 104/120\n",
      "4/4 [==============================] - 0s 6ms/step - loss: 0.0336 - accuracy: 0.9917 - val_loss: 0.3196 - val_accuracy: 0.9000\n",
      "Epoch 105/120\n",
      "4/4 [==============================] - 0s 6ms/step - loss: 0.0331 - accuracy: 0.9917 - val_loss: 0.3205 - val_accuracy: 0.9000\n",
      "Epoch 106/120\n",
      "4/4 [==============================] - 0s 6ms/step - loss: 0.0327 - accuracy: 0.9917 - val_loss: 0.3198 - val_accuracy: 0.9000\n",
      "Epoch 107/120\n",
      "4/4 [==============================] - 0s 6ms/step - loss: 0.0331 - accuracy: 0.9917 - val_loss: 0.3270 - val_accuracy: 0.8667\n",
      "Epoch 108/120\n",
      "4/4 [==============================] - 0s 6ms/step - loss: 0.0327 - accuracy: 0.9917 - val_loss: 0.3312 - val_accuracy: 0.9000\n",
      "Epoch 109/120\n",
      "4/4 [==============================] - 0s 6ms/step - loss: 0.0325 - accuracy: 0.9917 - val_loss: 0.3225 - val_accuracy: 0.9000\n",
      "Epoch 110/120\n",
      "4/4 [==============================] - 0s 6ms/step - loss: 0.0317 - accuracy: 0.9833 - val_loss: 0.3218 - val_accuracy: 0.9000\n",
      "Epoch 111/120\n",
      "4/4 [==============================] - 0s 6ms/step - loss: 0.0314 - accuracy: 0.9917 - val_loss: 0.3314 - val_accuracy: 0.8667\n",
      "Epoch 112/120\n",
      "4/4 [==============================] - 0s 8ms/step - loss: 0.0300 - accuracy: 0.9917 - val_loss: 0.3316 - val_accuracy: 0.8667\n",
      "Epoch 113/120\n",
      "4/4 [==============================] - 0s 7ms/step - loss: 0.0298 - accuracy: 0.9917 - val_loss: 0.3313 - val_accuracy: 0.9000\n",
      "Epoch 114/120\n",
      "4/4 [==============================] - 0s 7ms/step - loss: 0.0291 - accuracy: 0.9917 - val_loss: 0.3319 - val_accuracy: 0.9000\n",
      "Epoch 115/120\n",
      "4/4 [==============================] - 0s 6ms/step - loss: 0.0293 - accuracy: 0.9917 - val_loss: 0.3304 - val_accuracy: 0.9000\n",
      "Epoch 116/120\n",
      "4/4 [==============================] - 0s 6ms/step - loss: 0.0288 - accuracy: 0.9917 - val_loss: 0.3328 - val_accuracy: 0.9000\n",
      "Epoch 117/120\n",
      "4/4 [==============================] - 0s 6ms/step - loss: 0.0283 - accuracy: 0.9917 - val_loss: 0.3437 - val_accuracy: 0.9000\n",
      "Epoch 118/120\n",
      "4/4 [==============================] - 0s 6ms/step - loss: 0.0283 - accuracy: 0.9917 - val_loss: 0.3442 - val_accuracy: 0.9000\n",
      "Epoch 119/120\n",
      "4/4 [==============================] - 0s 6ms/step - loss: 0.0279 - accuracy: 0.9917 - val_loss: 0.3432 - val_accuracy: 0.9000\n",
      "Epoch 120/120\n",
      "4/4 [==============================] - 0s 6ms/step - loss: 0.0273 - accuracy: 0.9917 - val_loss: 0.3417 - val_accuracy: 0.9000\n"
     ]
    }
   ],
   "source": [
    "model = Sequential()\n",
    "\n",
    "model.add(Dense(12, input_dim=4))\n",
    "model.add(ReLU())\n",
    "model.add(Dense(units=15))\n",
    "model.add(ReLU())\n",
    "model.add(Dense(units=8))\n",
    "model.add(ReLU())\n",
    "model.add(Dense(units=10))\n",
    "model.add(ReLU())\n",
    "model.add(Dense(units=3, activation='softmax'))\n",
    "\n",
    "model.compile(loss='categorical_crossentropy', optimizer='adam', metrics=['accuracy'])\n",
    "\n",
    "history = model.fit(x_train, y_train, epochs=120, validation_data=(x_test, y_test))"
   ]
  },
  {
   "cell_type": "markdown",
   "metadata": {},
   "source": [
    "Plottiamo prima le curve della funzione di loss sugli insiemi di training e di test:"
   ]
  },
  {
   "cell_type": "code",
   "execution_count": 31,
   "metadata": {},
   "outputs": [
    {
     "data": {
      "image/png": "[encoded data removed]",
      "text/plain": [
       "<Figure size 432x288 with 1 Axes>"
      ]
     },
     "metadata": {
      "needs_background": "light"
     },
     "output_type": "display_data"
    }
   ],
   "source": [
    "plt.plot(history.history['loss'])\n",
    "plt.plot(history.history['val_loss'])\n",
    "plt.title('Loss')\n",
    "plt.legend(['Train','Test'])\n",
    "plt.show()"
   ]
  },
  {
   "cell_type": "markdown",
   "metadata": {},
   "source": [
    "Quindi plottiamo l'accuratezza del modello, sempre per gli insiemi di trianing e di test:"
   ]
  },
  {
   "cell_type": "code",
   "execution_count": 32,
   "metadata": {},
   "outputs": [
    {
     "data": {
      "text/plain": [
       "dict_keys(['loss', 'accuracy', 'val_loss', 'val_accuracy'])"
      ]
     },
     "execution_count": 32,
     "metadata": {},
     "output_type": "execute_result"
    }
   ],
   "source": [
    "history.history.keys()"
   ]
  },
  {
   "cell_type": "code",
   "execution_count": 33,
   "metadata": {},
   "outputs": [
    {
     "data": {
      "image/png": "[encoded data removed]",
      "text/plain": [
       "<Figure size 432x288 with 1 Axes>"
      ]
     },
     "metadata": {
      "needs_background": "light"
     },
     "output_type": "display_data"
    }
   ],
   "source": [
    "plt.plot(history.history['accuracy'])\n",
    "plt.plot(history.history['val_accuracy'])\n",
    "plt.title(\"Accuracy\")\n",
    "plt.legend(['train', 'test'])\n",
    "plt.show()"
   ]
  },
  {
   "cell_type": "markdown",
   "metadata": {},
   "source": [
    "L'accuratezza è molto elevata e quindi il nostro algoritmo è in grado di predirre le specie con una buona precisione."
   ]
  },
  {
   "cell_type": "markdown",
   "metadata": {},
   "source": [
    "<a id='section5'></a>\n",
    "## Riconosciamo la scrittura"
   ]
  },
  {
   "cell_type": "markdown",
   "metadata": {},
   "source": [
    "Creiamo una rete neurale deeplearning che permetta di riconoscere dei numeri scritti a mano:"
   ]
  },
  {
   "cell_type": "code",
   "execution_count": 34,
   "metadata": {},
   "outputs": [],
   "source": [
    "# We must always import the relevant libraries for our problem at hand. NumPy and TensorFlow are required for this example.\n",
    "import numpy as np\n",
    "import matplotlib.pyplot as plt\n",
    "\n",
    "import tensorflow as tf\n",
    "import tensorflow.keras as keras"
   ]
  },
  {
   "cell_type": "markdown",
   "metadata": {},
   "source": [
    "Una volta importato tensorflow, possiamo quindi iniziare a preparare i nostri dati, modellarli e quindi addestrarli. Per semplicità, utilizzeremo il più comune esempio di \"ciao mondo\" per l'apprendimento approfondito, che è il set di dati mnist. È un insieme di cifre scritte a mano, da 0 a 9. Sono le immagini 28x28 di queste cifre scritte a mano. Mostreremo un esempio di utilizzo di dati esterni, ma, per ora, carichiamo questi dati:"
   ]
  },
  {
   "cell_type": "code",
   "execution_count": 35,
   "metadata": {},
   "outputs": [],
   "source": [
    "mnist = tf.keras.datasets.mnist\n",
    "(x_train, y_train),(x_test, y_test) = mnist.load_data()"
   ]
  },
  {
   "cell_type": "markdown",
   "metadata": {},
   "source": [
    "Quando lavori con i tuoi dati raccolti, è probabile che non siano impacchettato così bene. In questo caso è necessario dedicare un poì di tempo e di impegno in questo passaggio.\n",
    "\n",
    "Quindi i dati x_train sono le \"caratteristiche\". In questo caso, le funzionalità sono valori in pixel delle immagini 28x28 di queste cifre 0-9. L'y_train è l'etichetta (è un 0,1,2,3,4,5,6,7,8 o un 9?)\n",
    "\n",
    "Le varianti di test di queste variabili sono gli esempi \"fuori campione\" che useremo. Questi sono esempi dai nostri dati che metteremo da parte, riservandoli per testare il modello.\n",
    "\n",
    "Le reti neurali sono eccezionalmente buone per adattarsi ai dati, al punto che generalmente si adattano troppo ai dati. La nostra vera speranza è che la rete neurale non memorizzi solo i nostri dati e che invece \"generalizzi\" e impari il vero problema e i modelli ad esso associati.\n",
    "\n",
    "Diamo un'occhiata a questi dati reali:"
   ]
  },
  {
   "cell_type": "code",
   "execution_count": 36,
   "metadata": {},
   "outputs": [
    {
     "data": {
      "text/plain": [
       "array([[  0,   0,   0,   0,   0,   0,   0,   0,   0,   0,   0,   0,   0,\n",
       "          0,   0,   0,   0,   0,   0,   0,   0,   0,   0,   0,   0,   0,\n",
       "          0,   0],\n",
       "       [  0,   0,   0,   0,   0,   0,   0,   0,   0,   0,   0,   0,   0,\n",
       "          0,   0,   0,   0,   0,   0,   0,   0,   0,   0,   0,   0,   0,\n",
       "          0,   0],\n",
       "       [  0,   0,   0,   0,   0,   0,   0,   0,   0,   0,   0,   0,   0,\n",
       "          0,   0,   0,   0,   0,   0,   0,   0,   0,   0,   0,   0,   0,\n",
       "          0,   0],\n",
       "       [  0,   0,   0,   0,   0,   0,   0,   0,   0,   0,   0,   0,   0,\n",
       "          0,   0,   0,   0,   0,   0,   0,   0,   0,   0,   0,   0,   0,\n",
       "          0,   0],\n",
       "       [  0,   0,   0,   0,   0,   0,   0,   0,   0,   0,   0,   0,   0,\n",
       "          0,   0,   0,   0,   0,   0,   0,   0,   0,   0,   0,   0,   0,\n",
       "          0,   0],\n",
       "       [  0,   0,   0,   0,   0,   0,   0,   0,   0,   0,   0,   0,   3,\n",
       "         18,  18,  18, 126, 136, 175,  26, 166, 255, 247, 127,   0,   0,\n",
       "          0,   0],\n",
       "       [  0,   0,   0,   0,   0,   0,   0,   0,  30,  36,  94, 154, 170,\n",
       "        253, 253, 253, 253, 253, 225, 172, 253, 242, 195,  64,   0,   0,\n",
       "          0,   0],\n",
       "       [  0,   0,   0,   0,   0,   0,   0,  49, 238, 253, 253, 253, 253,\n",
       "        253, 253, 253, 253, 251,  93,  82,  82,  56,  39,   0,   0,   0,\n",
       "          0,   0],\n",
       "       [  0,   0,   0,   0,   0,   0,   0,  18, 219, 253, 253, 253, 253,\n",
       "        253, 198, 182, 247, 241,   0,   0,   0,   0,   0,   0,   0,   0,\n",
       "          0,   0],\n",
       "       [  0,   0,   0,   0,   0,   0,   0,   0,  80, 156, 107, 253, 253,\n",
       "        205,  11,   0,  43, 154,   0,   0,   0,   0,   0,   0,   0,   0,\n",
       "          0,   0],\n",
       "       [  0,   0,   0,   0,   0,   0,   0,   0,   0,  14,   1, 154, 253,\n",
       "         90,   0,   0,   0,   0,   0,   0,   0,   0,   0,   0,   0,   0,\n",
       "          0,   0],\n",
       "       [  0,   0,   0,   0,   0,   0,   0,   0,   0,   0,   0, 139, 253,\n",
       "        190,   2,   0,   0,   0,   0,   0,   0,   0,   0,   0,   0,   0,\n",
       "          0,   0],\n",
       "       [  0,   0,   0,   0,   0,   0,   0,   0,   0,   0,   0,  11, 190,\n",
       "        253,  70,   0,   0,   0,   0,   0,   0,   0,   0,   0,   0,   0,\n",
       "          0,   0],\n",
       "       [  0,   0,   0,   0,   0,   0,   0,   0,   0,   0,   0,   0,  35,\n",
       "        241, 225, 160, 108,   1,   0,   0,   0,   0,   0,   0,   0,   0,\n",
       "          0,   0],\n",
       "       [  0,   0,   0,   0,   0,   0,   0,   0,   0,   0,   0,   0,   0,\n",
       "         81, 240, 253, 253, 119,  25,   0,   0,   0,   0,   0,   0,   0,\n",
       "          0,   0],\n",
       "       [  0,   0,   0,   0,   0,   0,   0,   0,   0,   0,   0,   0,   0,\n",
       "          0,  45, 186, 253, 253, 150,  27,   0,   0,   0,   0,   0,   0,\n",
       "          0,   0],\n",
       "       [  0,   0,   0,   0,   0,   0,   0,   0,   0,   0,   0,   0,   0,\n",
       "          0,   0,  16,  93, 252, 253, 187,   0,   0,   0,   0,   0,   0,\n",
       "          0,   0],\n",
       "       [  0,   0,   0,   0,   0,   0,   0,   0,   0,   0,   0,   0,   0,\n",
       "          0,   0,   0,   0, 249, 253, 249,  64,   0,   0,   0,   0,   0,\n",
       "          0,   0],\n",
       "       [  0,   0,   0,   0,   0,   0,   0,   0,   0,   0,   0,   0,   0,\n",
       "          0,  46, 130, 183, 253, 253, 207,   2,   0,   0,   0,   0,   0,\n",
       "          0,   0],\n",
       "       [  0,   0,   0,   0,   0,   0,   0,   0,   0,   0,   0,   0,  39,\n",
       "        148, 229, 253, 253, 253, 250, 182,   0,   0,   0,   0,   0,   0,\n",
       "          0,   0],\n",
       "       [  0,   0,   0,   0,   0,   0,   0,   0,   0,   0,  24, 114, 221,\n",
       "        253, 253, 253, 253, 201,  78,   0,   0,   0,   0,   0,   0,   0,\n",
       "          0,   0],\n",
       "       [  0,   0,   0,   0,   0,   0,   0,   0,  23,  66, 213, 253, 253,\n",
       "        253, 253, 198,  81,   2,   0,   0,   0,   0,   0,   0,   0,   0,\n",
       "          0,   0],\n",
       "       [  0,   0,   0,   0,   0,   0,  18, 171, 219, 253, 253, 253, 253,\n",
       "        195,  80,   9,   0,   0,   0,   0,   0,   0,   0,   0,   0,   0,\n",
       "          0,   0],\n",
       "       [  0,   0,   0,   0,  55, 172, 226, 253, 253, 253, 253, 244, 133,\n",
       "         11,   0,   0,   0,   0,   0,   0,   0,   0,   0,   0,   0,   0,\n",
       "          0,   0],\n",
       "       [  0,   0,   0,   0, 136, 253, 253, 253, 212, 135, 132,  16,   0,\n",
       "          0,   0,   0,   0,   0,   0,   0,   0,   0,   0,   0,   0,   0,\n",
       "          0,   0],\n",
       "       [  0,   0,   0,   0,   0,   0,   0,   0,   0,   0,   0,   0,   0,\n",
       "          0,   0,   0,   0,   0,   0,   0,   0,   0,   0,   0,   0,   0,\n",
       "          0,   0],\n",
       "       [  0,   0,   0,   0,   0,   0,   0,   0,   0,   0,   0,   0,   0,\n",
       "          0,   0,   0,   0,   0,   0,   0,   0,   0,   0,   0,   0,   0,\n",
       "          0,   0],\n",
       "       [  0,   0,   0,   0,   0,   0,   0,   0,   0,   0,   0,   0,   0,\n",
       "          0,   0,   0,   0,   0,   0,   0,   0,   0,   0,   0,   0,   0,\n",
       "          0,   0]], dtype=uint8)"
      ]
     },
     "execution_count": 36,
     "metadata": {},
     "output_type": "execute_result"
    }
   ],
   "source": [
    "x_train[0]"
   ]
  },
  {
   "cell_type": "markdown",
   "metadata": {},
   "source": [
    "Bene, possiamo povare a visualizzare questa osservazione:"
   ]
  },
  {
   "cell_type": "code",
   "execution_count": 37,
   "metadata": {},
   "outputs": [
    {
     "data": {
      "image/png": "[encoded data removed]",
      "text/plain": [
       "<Figure size 432x288 with 1 Axes>"
      ]
     },
     "metadata": {
      "needs_background": "light"
     },
     "output_type": "display_data"
    }
   ],
   "source": [
    "import matplotlib.pyplot as plt\n",
    "\n",
    "plt.imshow(x_train[0],cmap=plt.cm.binary)\n",
    "plt.show()"
   ]
  },
  {
   "cell_type": "markdown",
   "metadata": {},
   "source": [
    "Generalmente è una buona idea \"normalizzare\" i tuoi dati. Questo in genere comporta il ridimensionamento dei dati tra 0 e 1, o forse -1 e positivo 1. Nel nostro caso, ogni \"pixel\" è una caratteristica, e ogni caratteristica attualmente varia da 0 a 255. Non abbastanza da 0 a 1. Facciamo cambiala con una comoda funzione di utilità:"
   ]
  },
  {
   "cell_type": "code",
   "execution_count": 38,
   "metadata": {},
   "outputs": [],
   "source": [
    "x_train = tf.keras.utils.normalize(x_train, axis=1)\n",
    "x_test = tf.keras.utils.normalize(x_test, axis=1)"
   ]
  },
  {
   "cell_type": "markdown",
   "metadata": {},
   "source": [
    "Ora costruiamo il nostro modello!"
   ]
  },
  {
   "cell_type": "code",
   "execution_count": 39,
   "metadata": {},
   "outputs": [],
   "source": [
    "model = tf.keras.models.Sequential()"
   ]
  },
  {
   "cell_type": "markdown",
   "metadata": {},
   "source": [
    "Un modello sequenziale è quello che userai la maggior parte del tempo. Usiamolo in questo caso.\n",
    "\n",
    "Ora dobbiamo inserire tutti gli strati. Ricordi la nostra immagine di rete neurale? Lo strato di input era piatto. Quindi, dobbiamo prendere questa immagine 28x28 e renderla una piatta 1x784. Ci sono molti modi per farlo, ma keras ha uno strato di Flatten creato appositamente per noi, quindi lo useremo."
   ]
  },
  {
   "cell_type": "code",
   "execution_count": 40,
   "metadata": {},
   "outputs": [],
   "source": [
    "model.add(tf.keras.layers.Flatten())"
   ]
  },
  {
   "cell_type": "markdown",
   "metadata": {},
   "source": [
    "Questo servirà come nostro livello di input. Prenderà i dati che gli forniamo e li appiattiremo per noi. Successivamente, vogliamo i nostri livelli nascosti. Andremo con il livello di rete neurale più semplice, che è solo un livello denso. Questo si riferisce al fatto che si tratta di uno strato densamente connesso, il che significa che è \"completamente connesso\", in cui ogni nodo si collega a ciascun nodo precedente e successivo. Proprio come la nostra immagine."
   ]
  },
  {
   "cell_type": "code",
   "execution_count": 41,
   "metadata": {},
   "outputs": [],
   "source": [
    "model.add(tf.keras.layers.Dense(128, activation=tf.nn.relu))"
   ]
  },
  {
   "cell_type": "markdown",
   "metadata": {},
   "source": [
    "Questo strato ha 128 unità. La funzione di attivazione è relu, abbreviazione di linear rettificata. Attualmente, relu è la funzione di attivazione che dovrebbe essere predefinita. Ce ne sono molti altri da verificare, ma, se non sai cosa usare, usa relu per iniziare.\n",
    "\n",
    "Aggiungiamo un altro livello identico per una buona misura."
   ]
  },
  {
   "cell_type": "code",
   "execution_count": 42,
   "metadata": {},
   "outputs": [],
   "source": [
    "model.add(tf.keras.layers.Dense(128, activation=tf.nn.relu))"
   ]
  },
  {
   "cell_type": "markdown",
   "metadata": {},
   "source": [
    "Ora siamo pronti per un livello di output:"
   ]
  },
  {
   "cell_type": "code",
   "execution_count": 43,
   "metadata": {},
   "outputs": [],
   "source": [
    "model.add(tf.keras.layers.Dense(10, activation=tf.nn.softmax))"
   ]
  },
  {
   "cell_type": "markdown",
   "metadata": {},
   "source": [
    "Questo è il nostro ultimo livello. Ha 10 nodi. 1 nodo per la previsione del numero possibile. In questo caso, la nostra funzione di attivazione è una funzione softmax, poiché in realtà stiamo davvero cercando qualcosa di più simile a una distribuzione di probabilità di quale delle possibili opzioni di previsione questa cosa che stiamo passando attraverso le caratteristiche di è. Grande, il nostro modello è fatto.\n",
    "\n",
    "Ora dobbiamo \"compilare\" il modello. Qui è dove passiamo le impostazioni per ottimizzare / allenare effettivamente il modello che abbiamo definito."
   ]
  },
  {
   "cell_type": "code",
   "execution_count": 44,
   "metadata": {},
   "outputs": [],
   "source": [
    "model.compile(optimizer='adam',\n",
    "              loss='sparse_categorical_crossentropy',\n",
    "              metrics=['accuracy'])"
   ]
  },
  {
   "cell_type": "markdown",
   "metadata": {},
   "source": [
    "Ricorda perché abbiamo scelto relu come funzione di attivazione? La stessa cosa è vera per l'ottimizzatore Adam. È solo un ottimo default per iniziare.\n",
    "\n",
    "Successivamente, abbiamo la nostra metrica di perdita. La perdita è un calcolo dell'errore. Una rete neurale in realtà non tenta di massimizzare la precisione. Cerca di minimizzare la perdita. Di nuovo, ci sono molte scelte, ma una qualche forma di crossentropia categoriale è un buon inizio per un compito di classificazione come questo.\n",
    "\n",
    "Ora, facciamo il fit!"
   ]
  },
  {
   "cell_type": "code",
   "execution_count": 49,
   "metadata": {},
   "outputs": [
    {
     "name": "stdout",
     "output_type": "stream",
     "text": [
      "Epoch 1/4\n",
      "1875/1875 [==============================] - 2s 1ms/step - loss: 0.0550 - accuracy: 0.9822\n",
      "Epoch 2/4\n",
      "1875/1875 [==============================] - 2s 1ms/step - loss: 0.0393 - accuracy: 0.9873\n",
      "Epoch 3/4\n",
      "1875/1875 [==============================] - 2s 1ms/step - loss: 0.0309 - accuracy: 0.9895\n",
      "Epoch 4/4\n",
      "1875/1875 [==============================] - 2s 1ms/step - loss: 0.0257 - accuracy: 0.9915\n"
     ]
    }
   ],
   "source": [
    "history = model.fit(x_train, y_train, epochs=4)"
   ]
  },
  {
   "cell_type": "markdown",
   "metadata": {},
   "source": [
    "Mentre ci alleniamo, possiamo vedere la perdita va giù (yay), e la precisione migliora abbastanza rapidamente al 98-99% (doppio yay!)\n",
    "\n",
    "Questa è la perdita e l'accuratezza dei dati nel campione. Ottenere un'accuratezza elevata e una perdita bassa potrebbe significare che il tuo modello ha imparato come classificare le cifre in generale (è generalizzato) ... o semplicemente memorizzato ogni singolo esempio che hai mostrato (overfit). Questo è il motivo per cui dobbiamo testare dati fuori campione (dati che non abbiamo usato per addestrare il modello)."
   ]
  },
  {
   "cell_type": "code",
   "execution_count": 50,
   "metadata": {},
   "outputs": [
    {
     "name": "stdout",
     "output_type": "stream",
     "text": [
      "313/313 [==============================] - 0s 1ms/step - loss: 0.0860 - accuracy: 0.9759\n",
      "0.08598852157592773\n",
      "0.9758999943733215\n"
     ]
    }
   ],
   "source": [
    "val_loss, val_acc = model.evaluate(x_test, y_test)\n",
    "print(val_loss)\n",
    "print(val_acc)"
   ]
  },
  {
   "cell_type": "markdown",
   "metadata": {},
   "source": [
    "Infine, fai previsioni!"
   ]
  },
  {
   "cell_type": "code",
   "execution_count": 51,
   "metadata": {},
   "outputs": [
    {
     "data": {
      "text/plain": [
       "array([[7.7720564e-12, 5.1530682e-09, 2.5349431e-09, ..., 1.0000000e+00,\n",
       "        7.4503983e-13, 1.0620869e-08],\n",
       "       [2.6262076e-17, 3.2247463e-08, 1.0000000e+00, ..., 2.1127323e-15,\n",
       "        3.6646499e-15, 6.9205239e-20],\n",
       "       [3.7427152e-11, 9.9999464e-01, 3.6998365e-08, ..., 2.8249144e-06,\n",
       "        2.2666120e-06, 3.5090753e-11],\n",
       "       ...,\n",
       "       [4.0669347e-12, 1.0867643e-08, 6.5345635e-13, ..., 2.1568322e-07,\n",
       "        1.5045725e-08, 4.6981522e-06],\n",
       "       [2.0344926e-12, 1.2323041e-10, 4.3582537e-13, ..., 1.4446884e-10,\n",
       "        8.2235914e-05, 1.7649875e-15],\n",
       "       [1.2712722e-09, 6.9012485e-10, 5.3604132e-11, ..., 4.1469251e-15,\n",
       "        1.1878410e-09, 1.8432115e-11]], dtype=float32)"
      ]
     },
     "execution_count": 51,
     "metadata": {},
     "output_type": "execute_result"
    }
   ],
   "source": [
    "predictions = model.predict(x_test)\n",
    "predictions"
   ]
  },
  {
   "cell_type": "markdown",
   "metadata": {},
   "source": [
    "Quel certo non inizia come utile, ma ricorda che queste sono distribuzioni di probabilità. Possiamo ottenere il numero reale semplicemente:"
   ]
  },
  {
   "cell_type": "code",
   "execution_count": 60,
   "metadata": {
    "scrolled": true
   },
   "outputs": [
    {
     "data": {
      "image/png": "[encoded data removed]",
      "text/plain": [
       "<Figure size 432x288 with 1 Axes>"
      ]
     },
     "metadata": {
      "needs_background": "light"
     },
     "output_type": "display_data"
    },
    {
     "name": "stdout",
     "output_type": "stream",
     "text": [
      "Il nostro algoritmo legge il numero 3\n"
     ]
    }
   ],
   "source": [
    "import numpy as np\n",
    "\n",
    "case_id = 4242\n",
    "\n",
    "plt.imshow(x_test[case_id], cmap=plt.cm.binary)\n",
    "plt.show()\n",
    "\n",
    "print(\"Il nostro algoritmo legge il numero %d\" % np.argmax(predictions[case_id]))"
   ]
  },
  {
   "cell_type": "markdown",
   "metadata": {},
   "source": [
    "Eccezionale!\n",
    "Con questo esempio abbiamo appena scalfito la superficie di ciò che si può fare con queste librerie.\n",
    "Puoi trovare maggiore documentazione qui:\n",
    "- [Tensorflow](https://www.tensorflow.org/api_docs/python/)\n",
    "- [Keras](https://keras.io/layers/about-keras-layers/)"
   ]
  },
  {
   "cell_type": "markdown",
   "metadata": {},
   "source": [
    "[Clicca qui per tornare all'inizio della pagina](#start)<a id='start'></a>"
   ]
  }
 ],
 "metadata": {
  "kernelspec": {
   "display_name": "Python 3",
   "language": "python",
   "name": "python3"
  },
  "language_info": {
   "codemirror_mode": {
    "name": "ipython",
    "version": 3
   },
   "file_extension": ".py",
   "mimetype": "text/x-python",
   "name": "python",
   "nbconvert_exporter": "python",
   "pygments_lexer": "ipython3",
   "version": "3.7.9"
  }
 },
 "nbformat": 4,
 "nbformat_minor": 4
}
