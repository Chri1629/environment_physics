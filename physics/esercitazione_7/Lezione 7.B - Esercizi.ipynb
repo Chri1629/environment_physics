{
 "cells": [
  {
   "cell_type": "markdown",
   "metadata": {},
   "source": [
    "<a id='start'></a>\n",
    "# Reti neurali con Tensor Flow\n",
    "\n",
    "In questo notebook vengono presentati degli esercizi sulle reti neurali con Tensor Flow.\n",
    "\n",
    "Provate a svolgere il seguente esercizio:<br>\n",
    "1) [pp -> H -> ZZ -> 4lepton](#section1)<br>"
   ]
  },
  {
   "cell_type": "markdown",
   "metadata": {},
   "source": [
    "<a id='section1'></a>\n",
    "## pp -> H -> ZZ -> 4lepton"
   ]
  },
  {
   "cell_type": "markdown",
   "metadata": {},
   "source": [
    "Creare una rete neurale per analizzare i dati prodotti dagli studi di pp -> H -> ZZ -> 4lepton nel contesto delle ricerche mono-Higgs da parte della collaborazione CMS. I programmi usano le ntuple ridotte (con il nome dell'albero radice HZZ4LeptonsAnalysisReduced) create con Root."
   ]
  },
  {
   "cell_type": "code",
   "execution_count": 1,
   "metadata": {},
   "outputs": [],
   "source": [
    "import uproot\n",
    "import numpy as np\n",
    "import pandas as pd\n",
    "import h5py"
   ]
  },
  {
   "cell_type": "code",
   "execution_count": 25,
   "metadata": {},
   "outputs": [],
   "source": [
    "treename = 'HZZ4LeptonsAnalysisReduced'\n",
    "filename ='ntuple_4mu_bkg.root'\n",
    "\n",
    "upfile = uproot.open(filename)\n",
    "params = upfile[treename].arrays() # dictionary of NumPy arrays\n",
    "\n",
    "VARS = ['f_massjj']\n",
    "df = pd.DataFrame(params, columns=VARS)"
   ]
  },
  {
   "cell_type": "code",
   "execution_count": 40,
   "metadata": {},
   "outputs": [
    {
     "data": {
      "text/html": [
       "<div>\n",
       "<style scoped>\n",
       "    .dataframe tbody tr th:only-of-type {\n",
       "        vertical-align: middle;\n",
       "    }\n",
       "\n",
       "    .dataframe tbody tr th {\n",
       "        vertical-align: top;\n",
       "    }\n",
       "\n",
       "    .dataframe thead th {\n",
       "        text-align: right;\n",
       "    }\n",
       "</style>\n",
       "<table border=\"1\" class=\"dataframe\">\n",
       "  <thead>\n",
       "    <tr style=\"text-align: right;\">\n",
       "      <th></th>\n",
       "      <th>f_mass4l</th>\n",
       "      <th>f_massjj</th>\n",
       "      <th>isSignal</th>\n",
       "    </tr>\n",
       "  </thead>\n",
       "  <tbody>\n",
       "    <tr>\n",
       "      <th>0</th>\n",
       "      <td>125.077103</td>\n",
       "      <td>1300.426880</td>\n",
       "      <td>1.0</td>\n",
       "    </tr>\n",
       "    <tr>\n",
       "      <th>1</th>\n",
       "      <td>124.238113</td>\n",
       "      <td>437.221863</td>\n",
       "      <td>1.0</td>\n",
       "    </tr>\n",
       "    <tr>\n",
       "      <th>3</th>\n",
       "      <td>124.480667</td>\n",
       "      <td>1021.744080</td>\n",
       "      <td>1.0</td>\n",
       "    </tr>\n",
       "    <tr>\n",
       "      <th>4</th>\n",
       "      <td>124.919464</td>\n",
       "      <td>1101.381958</td>\n",
       "      <td>1.0</td>\n",
       "    </tr>\n",
       "    <tr>\n",
       "      <th>7</th>\n",
       "      <td>125.049065</td>\n",
       "      <td>498.717194</td>\n",
       "      <td>1.0</td>\n",
       "    </tr>\n",
       "    <tr>\n",
       "      <th>...</th>\n",
       "      <td>...</td>\n",
       "      <td>...</td>\n",
       "      <td>...</td>\n",
       "    </tr>\n",
       "    <tr>\n",
       "      <th>58056</th>\n",
       "      <td>197.383133</td>\n",
       "      <td>114.257278</td>\n",
       "      <td>0.0</td>\n",
       "    </tr>\n",
       "    <tr>\n",
       "      <th>58057</th>\n",
       "      <td>218.065582</td>\n",
       "      <td>106.195534</td>\n",
       "      <td>0.0</td>\n",
       "    </tr>\n",
       "    <tr>\n",
       "      <th>58060</th>\n",
       "      <td>89.288086</td>\n",
       "      <td>53.661579</td>\n",
       "      <td>0.0</td>\n",
       "    </tr>\n",
       "    <tr>\n",
       "      <th>58062</th>\n",
       "      <td>146.756577</td>\n",
       "      <td>71.162025</td>\n",
       "      <td>0.0</td>\n",
       "    </tr>\n",
       "    <tr>\n",
       "      <th>58069</th>\n",
       "      <td>218.869415</td>\n",
       "      <td>98.914696</td>\n",
       "      <td>0.0</td>\n",
       "    </tr>\n",
       "  </tbody>\n",
       "</table>\n",
       "<p>20738 rows × 3 columns</p>\n",
       "</div>"
      ],
      "text/plain": [
       "         f_mass4l     f_massjj  isSignal\n",
       "0      125.077103  1300.426880       1.0\n",
       "1      124.238113   437.221863       1.0\n",
       "3      124.480667  1021.744080       1.0\n",
       "4      124.919464  1101.381958       1.0\n",
       "7      125.049065   498.717194       1.0\n",
       "...           ...          ...       ...\n",
       "58056  197.383133   114.257278       0.0\n",
       "58057  218.065582   106.195534       0.0\n",
       "58060   89.288086    53.661579       0.0\n",
       "58062  146.756577    71.162025       0.0\n",
       "58069  218.869415    98.914696       0.0\n",
       "\n",
       "[20738 rows x 3 columns]"
      ]
     },
     "execution_count": 40,
     "metadata": {},
     "output_type": "execute_result"
    }
   ],
   "source": [
    "# fix random seed for reproducibility\n",
    "seed = 7\n",
    "np.random.seed(seed)\n",
    "\n",
    "treename = 'HZZ4LeptonsAnalysisReduced'\n",
    "\n",
    "VARS = ['f_mass4l', 'f_massjj']\n",
    "upfile_VV = uproot.open('ntuple_4mu_VV.root')\n",
    "upfile_BKG = uproot.open('ntuple_4mu_bkg.root')\n",
    "\n",
    "\n",
    "df_VV = pd.DataFrame(np.array(upfile_VV[treename].arrays(VARS)))\n",
    "df_BKG = pd.DataFrame(np.array(upfile_BKG[treename].arrays(VARS)))\n",
    "\n",
    "# cut out undefined variables VARS[0] and VARS[1] > -999\n",
    "df_VV = df_VV[(df_VV[VARS[0]] > -999) & (df_VV[VARS[1]] > -999)]\n",
    "df_BKG = df_BKG[(df_BKG[VARS[0]] > -999) & (df_BKG[VARS[1]] > -999)] \n",
    "\n",
    "# add isSignal variable\n",
    "df_VV['isSignal'] = np.ones(len(df_VV)) \n",
    "df_BKG['isSignal'] = np.zeros(len(df_BKG))\n",
    "\n",
    "df_all = pd.concat([df_VV, df_BKG])\n",
    "df_all"
   ]
  },
  {
   "cell_type": "markdown",
   "metadata": {},
   "source": [
    "Creiamo una rete densa, con un singolo livello nascosto completamente connesso con lo stesso numero di neuroni delle variabili di input.\n",
    "\n",
    "Possiamo quindi usare la funzione di attivazione `sigmoide` per produrre un'uscita di probabilità nell'intervallo da 0 a 1.\n",
    "\n",
    "Infine usiamo la funzione di loss `binary_crossentropy` durante l'allenamento, una funzione di perdita standard per problemi di classificazione binaria.\n",
    "\n",
    "Infine utimmizziamo il modello con l'algoritmo Adam per il grandient descend."
   ]
  },
  {
   "cell_type": "code",
   "execution_count": 41,
   "metadata": {},
   "outputs": [],
   "source": [
    "import numpy as np\n",
    "import matplotlib.pyplot as plt\n",
    "\n",
    "import tensorflow as tf\n",
    "import tensorflow.keras as keras\n",
    "\n",
    "from tensorflow.keras.models import Sequential\n",
    "from tensorflow.keras.layers import Dense, ReLU\n",
    "\n",
    "from sklearn.preprocessing import StandardScaler, LabelBinarizer"
   ]
  },
  {
   "cell_type": "code",
   "execution_count": 43,
   "metadata": {},
   "outputs": [],
   "source": [
    "X = df_all[['f_mass4l', 'f_massjj']]\n",
    "y = df_all['isSignal']\n",
    "\n",
    "X = StandardScaler().fit_transform(X)\n",
    "y = LabelBinarizer().fit_transform(y)"
   ]
  },
  {
   "cell_type": "code",
   "execution_count": 44,
   "metadata": {},
   "outputs": [],
   "source": [
    "from sklearn.model_selection import train_test_split\n",
    "x_train, x_test, y_train, y_test = train_test_split(X, y, test_size=0.2)"
   ]
  },
  {
   "cell_type": "code",
   "execution_count": 50,
   "metadata": {},
   "outputs": [
    {
     "data": {
      "text/plain": [
       "array([[1],\n",
       "       [1],\n",
       "       [0],\n",
       "       ...,\n",
       "       [0],\n",
       "       [0],\n",
       "       [1]])"
      ]
     },
     "execution_count": 50,
     "metadata": {},
     "output_type": "execute_result"
    }
   ],
   "source": [
    "y_test"
   ]
  },
  {
   "cell_type": "code",
   "execution_count": 51,
   "metadata": {},
   "outputs": [
    {
     "name": "stdout",
     "output_type": "stream",
     "text": [
      "Train on 16590 samples, validate on 4148 samples\n",
      "Epoch 1/20\n",
      "16590/16590 [==============================] - 2s 146us/sample - loss: 0.1713 - accuracy: 0.9498 - val_loss: 0.0763 - val_accuracy: 0.9790\n",
      "Epoch 2/20\n",
      "16590/16590 [==============================] - 1s 88us/sample - loss: 0.0610 - accuracy: 0.9820 - val_loss: 0.0543 - val_accuracy: 0.9853\n",
      "Epoch 3/20\n",
      "16590/16590 [==============================] - 1s 85us/sample - loss: 0.0541 - accuracy: 0.9832 - val_loss: 0.0516 - val_accuracy: 0.9860\n",
      "Epoch 4/20\n",
      "16590/16590 [==============================] - 1s 83us/sample - loss: 0.0534 - accuracy: 0.9832 - val_loss: 0.0506 - val_accuracy: 0.9863\n",
      "Epoch 5/20\n",
      "16590/16590 [==============================] - 2s 92us/sample - loss: 0.0524 - accuracy: 0.9834 - val_loss: 0.0485 - val_accuracy: 0.9851\n",
      "Epoch 6/20\n",
      "16590/16590 [==============================] - 2s 101us/sample - loss: 0.0515 - accuracy: 0.9832 - val_loss: 0.0479 - val_accuracy: 0.9872\n",
      "Epoch 7/20\n",
      "16590/16590 [==============================] - 2s 104us/sample - loss: 0.0504 - accuracy: 0.9839 - val_loss: 0.0517 - val_accuracy: 0.9846\n",
      "Epoch 8/20\n",
      "16590/16590 [==============================] - 2s 99us/sample - loss: 0.0507 - accuracy: 0.9832 - val_loss: 0.0474 - val_accuracy: 0.9865\n",
      "Epoch 9/20\n",
      "16590/16590 [==============================] - 2s 94us/sample - loss: 0.0497 - accuracy: 0.9841 - val_loss: 0.0449 - val_accuracy: 0.9851\n",
      "Epoch 10/20\n",
      "16590/16590 [==============================] - 2s 99us/sample - loss: 0.0494 - accuracy: 0.9840 - val_loss: 0.0444 - val_accuracy: 0.9863\n",
      "Epoch 11/20\n",
      "16590/16590 [==============================] - 2s 99us/sample - loss: 0.0483 - accuracy: 0.9842 - val_loss: 0.0468 - val_accuracy: 0.9836\n",
      "Epoch 12/20\n",
      "16590/16590 [==============================] - 2s 114us/sample - loss: 0.0485 - accuracy: 0.9836 - val_loss: 0.0425 - val_accuracy: 0.9867\n",
      "Epoch 13/20\n",
      "16590/16590 [==============================] - 2s 101us/sample - loss: 0.0487 - accuracy: 0.9842 - val_loss: 0.0421 - val_accuracy: 0.9872\n",
      "Epoch 14/20\n",
      "16590/16590 [==============================] - 2s 111us/sample - loss: 0.0470 - accuracy: 0.9843 - val_loss: 0.0420 - val_accuracy: 0.9875\n",
      "Epoch 15/20\n",
      "16590/16590 [==============================] - 2s 103us/sample - loss: 0.0470 - accuracy: 0.9843 - val_loss: 0.0431 - val_accuracy: 0.9872\n",
      "Epoch 16/20\n",
      "16590/16590 [==============================] - 2s 101us/sample - loss: 0.0469 - accuracy: 0.9844 - val_loss: 0.0423 - val_accuracy: 0.9867\n",
      "Epoch 17/20\n",
      "16590/16590 [==============================] - 2s 105us/sample - loss: 0.0469 - accuracy: 0.9841 - val_loss: 0.0420 - val_accuracy: 0.9872\n",
      "Epoch 18/20\n",
      "16590/16590 [==============================] - 2s 101us/sample - loss: 0.0465 - accuracy: 0.9849 - val_loss: 0.0416 - val_accuracy: 0.9877\n",
      "Epoch 19/20\n",
      "16590/16590 [==============================] - 2s 101us/sample - loss: 0.0467 - accuracy: 0.9845 - val_loss: 0.0425 - val_accuracy: 0.9860\n",
      "Epoch 20/20\n",
      "16590/16590 [==============================] - 2s 106us/sample - loss: 0.0457 - accuracy: 0.9851 - val_loss: 0.0436 - val_accuracy: 0.9875\n"
     ]
    }
   ],
   "source": [
    "model = Sequential()\n",
    "\n",
    "model.add(Dense(128, input_dim=2))\n",
    "model.add(ReLU())\n",
    "\n",
    "model.add(Dense(units=64))\n",
    "model.add(ReLU())\n",
    "\n",
    "model.add(Dense(units=1, activation='sigmoid'))\n",
    "\n",
    "model.compile(loss='binary_crossentropy', optimizer='adam', metrics=['accuracy'])\n",
    "\n",
    "history = model.fit(x_train, y_train, epochs=20, validation_data=(x_test, y_test))"
   ]
  },
  {
   "cell_type": "code",
   "execution_count": 52,
   "metadata": {},
   "outputs": [
    {
     "data": {
      "image/png": "[encoded data removed]",
      "text/plain": [
       "<Figure size 432x288 with 1 Axes>"
      ]
     },
     "metadata": {
      "needs_background": "light"
     },
     "output_type": "display_data"
    }
   ],
   "source": [
    "plt.plot(history.history['loss'])\n",
    "plt.plot(history.history['val_loss'])\n",
    "plt.title('Loss')\n",
    "plt.legend(['Train','Test'])\n",
    "plt.show()"
   ]
  },
  {
   "cell_type": "code",
   "execution_count": 53,
   "metadata": {},
   "outputs": [
    {
     "data": {
      "image/png": "[encoded data removed]",
      "text/plain": [
       "<Figure size 432x288 with 1 Axes>"
      ]
     },
     "metadata": {
      "needs_background": "light"
     },
     "output_type": "display_data"
    }
   ],
   "source": [
    "plt.plot(history.history['accuracy'])\n",
    "plt.plot(history.history['val_accuracy'])\n",
    "plt.title(\"Accuracy\")\n",
    "plt.legend(['train', 'test'])\n",
    "plt.show()"
   ]
  }
 ],
 "metadata": {
  "kernelspec": {
   "display_name": "Python 3",
   "language": "python",
   "name": "python3"
  },
  "language_info": {
   "codemirror_mode": {
    "name": "ipython",
    "version": 3
   },
   "file_extension": ".py",
   "mimetype": "text/x-python",
   "name": "python",
   "nbconvert_exporter": "python",
   "pygments_lexer": "ipython3",
   "version": "3.7.7"
  }
 },
 "nbformat": 4,
 "nbformat_minor": 4
}
