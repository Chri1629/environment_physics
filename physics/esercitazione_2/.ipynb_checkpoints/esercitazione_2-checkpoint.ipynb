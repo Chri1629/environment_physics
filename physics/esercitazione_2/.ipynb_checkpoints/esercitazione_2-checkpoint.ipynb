{
 "cells": [
  {
   "cell_type": "markdown",
   "id": "passing-ghana",
   "metadata": {},
   "source": [
    "# Esercitazione 2\n",
    "\n",
    "Applicare le tecniche di regressione sui punti di seguito, per prima cosa importiamo le librerire."
   ]
  },
  {
   "cell_type": "code",
   "execution_count": 8,
   "id": "bearing-porcelain",
   "metadata": {},
   "outputs": [],
   "source": [
    "import numpy as np\n",
    "import pandas as pd\n",
    "import statsmodels.api as sm\n",
    "import statsmodels.formula.api as smf\n",
    "import matplotlib.pyplot as plt\n",
    "import seaborn as sns\n",
    "from scipy import stats"
   ]
  },
  {
   "cell_type": "markdown",
   "id": "forty-assistant",
   "metadata": {},
   "source": [
    "## Regressione semplice\n",
    "\n",
    "Definiamo prima i dati poi facciamo la regressione sia con statsmodel che con sklearn in modo da vedere le differenze di approccio. Iniziamo a vedere cosa succede applicando una regressione lineare con scipy stats poi applichiamo anche la regressione lineare con statsmodel e sklearn"
   ]
  },
  {
   "cell_type": "code",
   "execution_count": 17,
   "id": "realistic-married",
   "metadata": {},
   "outputs": [],
   "source": [
    "x = np.array([0,1,2,3,4,5,6,7,8,9])\n",
    "y = np.array([1,3,2,5,7,8,8,9,10,12])\n",
    "\n",
    "data = pd.concat([pd.Series(x), pd.Series(y)], axis = 1)\n",
    "data.columns = [\"x\", \"y\"]"
   ]
  },
  {
   "cell_type": "markdown",
   "id": "unsigned-crazy",
   "metadata": {},
   "source": [
    "### SCIPY"
   ]
  },
  {
   "cell_type": "code",
   "execution_count": 24,
   "id": "robust-curtis",
   "metadata": {},
   "outputs": [
    {
     "data": {
      "text/plain": [
       "<matplotlib.legend.Legend at 0x7fcd0cd44ed0>"
      ]
     },
     "execution_count": 24,
     "metadata": {},
     "output_type": "execute_result"
    },
    {
     "data": {
      "image/png": "[encoded data removed]",
      "text/plain": [
       "<Figure size 432x288 with 1 Axes>"
      ]
     },
     "metadata": {
      "needs_background": "light"
     },
     "output_type": "display_data"
    }
   ],
   "source": [
    "slope, intercept, r_value, p_value, std_err = stats.linregress(x, y = y)\n",
    "sns.regplot(x = x, y = y, scatter_kws={\"s\": 30}, ci = 95, color = \"#FFAD89\", order = 1,\n",
    "            line_kws={'label': r\"y={0:.2f}x+{1:.2f}, $r^2$ = {2:.2f}, p = {3:.2g}\".format(slope, intercept, r_value, p_value)})\n",
    "plt.xticks(size = 12)\n",
    "plt.yticks(size = 12)\n",
    "plt.xlabel(\"x\", size = 15)\n",
    "plt.ylabel(\"y\", size = 15)\n",
    "plt.grid()\n",
    "plt.legend(fontsize=12)"
   ]
  },
  {
   "cell_type": "markdown",
   "id": "scenic-kitchen",
   "metadata": {},
   "source": [
    "### STATSMODELS"
   ]
  },
  {
   "cell_type": "code",
   "execution_count": 22,
   "id": "moral-official",
   "metadata": {},
   "outputs": [
    {
     "name": "stderr",
     "output_type": "stream",
     "text": [
      "/Users/christianuccheddu/opt/anaconda3/envs/environment/lib/python3.7/site-packages/scipy/stats/stats.py:1604: UserWarning: kurtosistest only valid for n>=20 ... continuing anyway, n=10\n",
      "  \"anyway, n=%i\" % int(n))\n"
     ]
    },
    {
     "data": {
      "text/html": [
       "<table class=\"simpletable\">\n",
       "<caption>OLS Regression Results</caption>\n",
       "<tr>\n",
       "  <th>Dep. Variable:</th>            <td>x</td>        <th>  R-squared:         </th> <td>   0.953</td>\n",
       "</tr>\n",
       "<tr>\n",
       "  <th>Model:</th>                   <td>OLS</td>       <th>  Adj. R-squared:    </th> <td>   0.947</td>\n",
       "</tr>\n",
       "<tr>\n",
       "  <th>Method:</th>             <td>Least Squares</td>  <th>  F-statistic:       </th> <td>   160.6</td>\n",
       "</tr>\n",
       "<tr>\n",
       "  <th>Date:</th>             <td>Mon, 15 Mar 2021</td> <th>  Prob (F-statistic):</th> <td>1.41e-06</td>\n",
       "</tr>\n",
       "<tr>\n",
       "  <th>Time:</th>                 <td>18:44:43</td>     <th>  Log-Likelihood:    </th> <td> -9.5013</td>\n",
       "</tr>\n",
       "<tr>\n",
       "  <th>No. Observations:</th>      <td>    10</td>      <th>  AIC:               </th> <td>   23.00</td>\n",
       "</tr>\n",
       "<tr>\n",
       "  <th>Df Residuals:</th>          <td>     8</td>      <th>  BIC:               </th> <td>   23.61</td>\n",
       "</tr>\n",
       "<tr>\n",
       "  <th>Df Model:</th>              <td>     1</td>      <th>                     </th>     <td> </td>   \n",
       "</tr>\n",
       "<tr>\n",
       "  <th>Covariance Type:</th>      <td>nonrobust</td>    <th>                     </th>     <td> </td>   \n",
       "</tr>\n",
       "</table>\n",
       "<table class=\"simpletable\">\n",
       "<tr>\n",
       "      <td></td>         <th>coef</th>     <th>std err</th>      <th>t</th>      <th>P>|t|</th>  <th>[0.025</th>    <th>0.975]</th>  \n",
       "</tr>\n",
       "<tr>\n",
       "  <th>Intercept</th> <td>   -0.7932</td> <td>    0.473</td> <td>   -1.678</td> <td> 0.132</td> <td>   -1.883</td> <td>    0.297</td>\n",
       "</tr>\n",
       "<tr>\n",
       "  <th>y</th>         <td>    0.8143</td> <td>    0.064</td> <td>   12.671</td> <td> 0.000</td> <td>    0.666</td> <td>    0.963</td>\n",
       "</tr>\n",
       "</table>\n",
       "<table class=\"simpletable\">\n",
       "<tr>\n",
       "  <th>Omnibus:</th>       <td> 0.306</td> <th>  Durbin-Watson:     </th> <td>   1.957</td>\n",
       "</tr>\n",
       "<tr>\n",
       "  <th>Prob(Omnibus):</th> <td> 0.858</td> <th>  Jarque-Bera (JB):  </th> <td>   0.432</td>\n",
       "</tr>\n",
       "<tr>\n",
       "  <th>Skew:</th>          <td> 0.227</td> <th>  Prob(JB):          </th> <td>   0.806</td>\n",
       "</tr>\n",
       "<tr>\n",
       "  <th>Kurtosis:</th>      <td> 2.089</td> <th>  Cond. No.          </th> <td>    15.9</td>\n",
       "</tr>\n",
       "</table><br/><br/>Notes:<br/>[1] Standard Errors assume that the covariance matrix of the errors is correctly specified."
      ],
      "text/plain": [
       "<class 'statsmodels.iolib.summary.Summary'>\n",
       "\"\"\"\n",
       "                            OLS Regression Results                            \n",
       "==============================================================================\n",
       "Dep. Variable:                      x   R-squared:                       0.953\n",
       "Model:                            OLS   Adj. R-squared:                  0.947\n",
       "Method:                 Least Squares   F-statistic:                     160.6\n",
       "Date:                Mon, 15 Mar 2021   Prob (F-statistic):           1.41e-06\n",
       "Time:                        18:44:43   Log-Likelihood:                -9.5013\n",
       "No. Observations:                  10   AIC:                             23.00\n",
       "Df Residuals:                       8   BIC:                             23.61\n",
       "Df Model:                           1                                         \n",
       "Covariance Type:            nonrobust                                         \n",
       "==============================================================================\n",
       "                 coef    std err          t      P>|t|      [0.025      0.975]\n",
       "------------------------------------------------------------------------------\n",
       "Intercept     -0.7932      0.473     -1.678      0.132      -1.883       0.297\n",
       "y              0.8143      0.064     12.671      0.000       0.666       0.963\n",
       "==============================================================================\n",
       "Omnibus:                        0.306   Durbin-Watson:                   1.957\n",
       "Prob(Omnibus):                  0.858   Jarque-Bera (JB):                0.432\n",
       "Skew:                           0.227   Prob(JB):                        0.806\n",
       "Kurtosis:                       2.089   Cond. No.                         15.9\n",
       "==============================================================================\n",
       "\n",
       "Notes:\n",
       "[1] Standard Errors assume that the covariance matrix of the errors is correctly specified.\n",
       "\"\"\""
      ]
     },
     "execution_count": 22,
     "metadata": {},
     "output_type": "execute_result"
    }
   ],
   "source": [
    "results = smf.ols('x ~ y', data = data).fit()\n",
    "results.summary()"
   ]
  },
  {
   "cell_type": "markdown",
   "id": "asian-medicine",
   "metadata": {},
   "source": [
    "### SKLEARN"
   ]
  },
  {
   "cell_type": "markdown",
   "id": "collective-flesh",
   "metadata": {},
   "source": [
    "## Prezzi case\n",
    "\n",
    "La variabile dipendente è price mentre quella indipendente è size"
   ]
  },
  {
   "cell_type": "code",
   "execution_count": null,
   "id": "infinite-airport",
   "metadata": {},
   "outputs": [],
   "source": []
  },
  {
   "cell_type": "markdown",
   "id": "twelve-judgment",
   "metadata": {},
   "source": [
    "## Regressione multipla"
   ]
  },
  {
   "cell_type": "code",
   "execution_count": null,
   "id": "american-challenge",
   "metadata": {},
   "outputs": [],
   "source": []
  },
  {
   "cell_type": "markdown",
   "id": "following-watson",
   "metadata": {},
   "source": [
    "## Regressione multipla Serie A"
   ]
  },
  {
   "cell_type": "code",
   "execution_count": null,
   "id": "allied-hybrid",
   "metadata": {},
   "outputs": [],
   "source": []
  },
  {
   "cell_type": "markdown",
   "id": "surgical-youth",
   "metadata": {},
   "source": [
    "## Regressione polinomiale"
   ]
  },
  {
   "cell_type": "code",
   "execution_count": null,
   "id": "mighty-smoke",
   "metadata": {},
   "outputs": [],
   "source": []
  }
 ],
 "metadata": {
  "kernelspec": {
   "display_name": "Python 3",
   "language": "python",
   "name": "python3"
  },
  "language_info": {
   "codemirror_mode": {
    "name": "ipython",
    "version": 3
   },
   "file_extension": ".py",
   "mimetype": "text/x-python",
   "name": "python",
   "nbconvert_exporter": "python",
   "pygments_lexer": "ipython3",
   "version": "3.7.7"
  }
 },
 "nbformat": 4,
 "nbformat_minor": 5
}
